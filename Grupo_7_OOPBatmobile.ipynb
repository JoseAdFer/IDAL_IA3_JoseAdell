{
  "nbformat": 4,
  "nbformat_minor": 0,
  "metadata": {
    "colab": {
      "name": "Grupo 7_OOPBatmobile.ipynb",
      "provenance": [],
      "collapsed_sections": [],
      "include_colab_link": true
    },
    "kernelspec": {
      "name": "python3",
      "display_name": "Python 3"
    },
    "language_info": {
      "name": "python"
    }
  },
  "cells": [
    {
      "cell_type": "markdown",
      "metadata": {
        "id": "view-in-github",
        "colab_type": "text"
      },
      "source": [
        "<a href=\"https://colab.research.google.com/github/JoseAdFer/IDAL_IA3_JoseAdell/blob/main/Grupo_7_OOPBatmobile.ipynb\" target=\"_parent\"><img src=\"https://colab.research.google.com/assets/colab-badge.svg\" alt=\"Open In Colab\"/></a>"
      ]
    },
    {
      "cell_type": "markdown",
      "metadata": {
        "id": "Qtn8vRqss2Lb"
      },
      "source": [
        "# Entrega Ejercicio Batmovil\n",
        "\n",
        "**Grupo 7**\n",
        "\n",
        "\n",
        "1.   Jose Adell Fernández\n",
        "2.   Antonio Coy García\n",
        "3.   Carolina Mulet Rojas\n"
      ]
    },
    {
      "cell_type": "code",
      "metadata": {
        "id": "baMz9X1X7MU3"
      },
      "source": [
        "class Batmobile:\n",
        "    def __init__(self,pilot, n_batrockets, n_pem, gas):\n",
        "        self.pilot=pilot\n",
        "        self.n_batrockets=n_batrockets\n",
        "        self.n_pem=n_pem\n",
        "        self.gas=gas\n",
        "        self.distance=0\n",
        "        if self.pilot == 'Batman' or self.pilot=='Robin':\n",
        "            pass\n",
        "        else:\n",
        "            raise Exception (\"Who do you think you are? You cannot drive the Batmobile\")\n",
        "\n",
        "    def describe(self):\n",
        "      print(f'{self.pilot} is driving')\n",
        "      print(f'Number of rockets:{self.n_batrockets}')\n",
        "      print(f\"You still have {self.gas} liters in the tank\")\n",
        "      print(f'Number of pems:{self.n_pem}')\n",
        "\n",
        "    def accelerate (self):\n",
        "        \n",
        "      \n",
        "        if self.gas<=0:\n",
        "            if self.pilot=='Bruce':\n",
        "                print(\"Sorry Bruce, you have no gas in the deposit\")\n",
        "            else: \n",
        "                print(\"Sorry Robin, Batman has the car empty\")\n",
        "        else:\n",
        "            self.distance += 20\n",
        "            self.gas=self.gas-1\n",
        "            print (f\" We have now drive for {self.distance} meters, out velocity is 50 km/h\")\n",
        "            print (f\" There are {self.gas} liters left in the tank\")\n",
        "            \n",
        "    def turbo (self):\n",
        "           \n",
        "        \n",
        "        if self.gas<=10:\n",
        "            print(\"Sorry, you cannot use the turbo\")\n",
        "        else:\n",
        "            self.distance += 300\n",
        "            self.gas=self.gas-10\n",
        "            print (\" Wooooooo!! \")\n",
        "            print (f\" We have now drive for {self.distance} meters, our velocity is 120 km/h\")\n",
        "            print (f\" There are {self.gas} liters left in the tank\")\n",
        "            \n",
        "    def launch_rocket(self, villain):\n",
        "        if isinstance(villain, Joker) or isinstance (villain, Joker_Villain):\n",
        "            if self.n_batrockets <=0:\n",
        "                print (\" We have no rockets left...\")\n",
        "            elif villain.KO==True:\n",
        "              print (\"Stop!! is already dead\")\n",
        "            else:\n",
        "              self.n_batrockets=self.n_batrockets-1\n",
        "              rocket= Rocket()\n",
        "              rocket.shot(villain)\n",
        "           \n",
        "        else:\n",
        "            raise Exception ( \"Be careful!!!!! villain is not an enemy\")\n",
        "    def launch_pem(self, villain):\n",
        "        if isinstance(villain, Joker) or isinstance (villain, Joker_Villain):\n",
        "            if self.n_pem <=0:\n",
        "                print (\" We have no electromagnetic pulses...\")\n",
        "            elif villain.weapon==False:\n",
        "              print(\"Don´t be a bully they are disarmed\")\n",
        "            else:\n",
        "              self.n_pem=self.n_pem-1\n",
        "              pem= PEM_Pulse()\n",
        "              pem.shot(villain)\n",
        "               \n",
        "        else:\n",
        "            raise Exception (\"Be careful!!!!! villain is not an enemy\")\n",
        "    \n",
        "\n",
        "class Rocket:\n",
        "\n",
        "    \n",
        "  def shot(self,villain):\n",
        "    print('You have pressed the big red button and...')\n",
        "    print('the rocket has been launched!')\n",
        "    villain.get_shot('Rocket')\n",
        "\n",
        "class PEM_Pulse:\n",
        "    \n",
        "  def shot(self):\n",
        "    print('You have raised the lever and...')\n",
        "    print('the PEM pulse has been launched!')\n",
        "    villain.get_shot('PEM pulse')\n",
        "\n",
        "\n",
        "\n",
        "\n",
        "\n",
        "class Joker:\n",
        "  def __init__(self, KO=False, weapon=True):\n",
        "    self.KO = KO\n",
        "    self.weapon = weapon\n",
        "    print(\" Hey there!! The Joker is back in town!!!\")\n",
        "\n",
        "  def get_shot(self, shot):\n",
        "      if shot == 'Rocket':\n",
        "        print('The Joker is KO!')\n",
        "        self.KO=True\n",
        "      elif shot == 'PEM pulse':\n",
        "        print('The weapons are down!')\n",
        "        self.weapon=False\n",
        "      else:\n",
        "        print('You didn\\'t hit the Joker')      \n",
        "\n",
        "class Joker_Villain:\n",
        "  def __init__(self, KO=False, weapon=True):\n",
        "    self.KO = KO\n",
        "    self.weapon = weapon  \n",
        "    print(\" Hey Joker!! let´s have some fun\")\n",
        "    \n",
        "\n",
        "  def get_shot(self, shot):\n",
        "      if shot == 'Rocket':\n",
        "        print('The Joker Villain is KO!')\n",
        "        self.KO=True\n",
        "      elif shot == 'PEM pulse':\n",
        "        print('The weapons are down!')\n",
        "        self.weapon=False\n",
        "      else:\n",
        "        print('You didn\\'t hit the Joker Villain')   "
      ],
      "execution_count": null,
      "outputs": []
    },
    {
      "cell_type": "code",
      "metadata": {
        "colab": {
          "base_uri": "https://localhost:8080/"
        },
        "id": "P1JFgFHV92Lk",
        "outputId": "79d42837-dc74-48fd-e0d1-2b3c7de7cda5"
      },
      "source": [
        "bat=Batmobile(\"Batman\",3,10,80)\n",
        "Batmobile.describe(bat)\n",
        "joker = Joker()\n",
        "bat.launch_rocket(joker)\n",
        "Batmobile.describe(bat)\n",
        "bat.launch_rocket(joker)"
      ],
      "execution_count": null,
      "outputs": [
        {
          "output_type": "stream",
          "name": "stdout",
          "text": [
            "Batman is driving\n",
            "Number of rockets:3\n",
            "You still have 80 liters in the tank\n",
            "Number of pems:10\n",
            " Hey there!! The Joker is back in town!!!\n",
            "You have pressed the big red button and...\n",
            "the rocket has been launched!\n",
            "The Joker is KO!\n",
            "Batman is driving\n",
            "Number of rockets:2\n",
            "You still have 80 liters in the tank\n",
            "Number of pems:10\n",
            "Stop!! is already dead\n"
          ]
        }
      ]
    },
    {
      "cell_type": "code",
      "metadata": {
        "colab": {
          "base_uri": "https://localhost:8080/"
        },
        "id": "Tq1NNCkyuiRM",
        "outputId": "37f51c45-af70-4547-f0b1-8b2e8d2c2db0"
      },
      "source": [
        "bat2=Batmobile(\"Robin\",3,0,50)\n",
        "Batmobile.describe(bat2)\n",
        "joker_v = Joker_Villain()\n",
        "bat2.launch_pem(joker_v)"
      ],
      "execution_count": null,
      "outputs": [
        {
          "output_type": "stream",
          "name": "stdout",
          "text": [
            "Robin is driving\n",
            "Number of rockets:3\n",
            "You still have 50 liters in the tank\n",
            "Number of pems:0\n",
            " Hey Joker!! let´s have some fun\n",
            " We have no electromagnetic pulses...\n"
          ]
        }
      ]
    },
    {
      "cell_type": "markdown",
      "metadata": {
        "id": "vuSth0fnweTU"
      },
      "source": [
        "![aa.png](data:image/png;base64,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)"
      ]
    }
  ]
}