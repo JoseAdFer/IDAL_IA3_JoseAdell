{
  "nbformat": 4,
  "nbformat_minor": 0,
  "metadata": {
    "colab": {
      "name": "Titanic_prueba.ipynb",
      "provenance": [],
      "collapsed_sections": [],
      "authorship_tag": "ABX9TyNNHQkXxU7N9vYHhuVv5AKZ",
      "include_colab_link": true
    },
    "kernelspec": {
      "name": "python3",
      "display_name": "Python 3"
    },
    "language_info": {
      "name": "python"
    }
  },
  "cells": [
    {
      "cell_type": "markdown",
      "metadata": {
        "id": "view-in-github",
        "colab_type": "text"
      },
      "source": [
        "<a href=\"https://colab.research.google.com/github/JoseAdFer/IDAL_IA3_JoseAdell/blob/main/Titanic_prueba.ipynb\" target=\"_parent\"><img src=\"https://colab.research.google.com/assets/colab-badge.svg\" alt=\"Open In Colab\"/></a>"
      ]
    },
    {
      "cell_type": "code",
      "metadata": {
        "id": "EURmZBlQ5z0s"
      },
      "source": [
        "import pandas as pd\n",
        "import numpy as np\n",
        "import seaborn as sns"
      ],
      "execution_count": 166,
      "outputs": []
    },
    {
      "cell_type": "code",
      "metadata": {
        "id": "zA5wnHWm52bV"
      },
      "source": [
        "test=pd.read_csv('./test.csv')\n",
        "train=pd.read_csv('./train.csv')"
      ],
      "execution_count": 296,
      "outputs": []
    },
    {
      "cell_type": "code",
      "metadata": {
        "id": "m1Cx7_Vs6C6Z"
      },
      "source": [
        "test.drop(['PassengerId','Name','Ticket','Cabin'],axis=1,inplace=True)"
      ],
      "execution_count": 297,
      "outputs": []
    },
    {
      "cell_type": "code",
      "metadata": {
        "id": "e5b7VSyF8fi2"
      },
      "source": [
        "train.drop(['PassengerId','Name','Ticket','Cabin'],axis=1,inplace=True)"
      ],
      "execution_count": 298,
      "outputs": []
    },
    {
      "cell_type": "code",
      "metadata": {
        "colab": {
          "base_uri": "https://localhost:8080/",
          "height": 297
        },
        "id": "1RBAUU3-80wz",
        "outputId": "156c7c0c-a953-411f-91c5-c1c34f411009"
      },
      "source": [
        "train.describe()"
      ],
      "execution_count": 299,
      "outputs": [
        {
          "output_type": "execute_result",
          "data": {
            "text/html": [
              "<div>\n",
              "<style scoped>\n",
              "    .dataframe tbody tr th:only-of-type {\n",
              "        vertical-align: middle;\n",
              "    }\n",
              "\n",
              "    .dataframe tbody tr th {\n",
              "        vertical-align: top;\n",
              "    }\n",
              "\n",
              "    .dataframe thead th {\n",
              "        text-align: right;\n",
              "    }\n",
              "</style>\n",
              "<table border=\"1\" class=\"dataframe\">\n",
              "  <thead>\n",
              "    <tr style=\"text-align: right;\">\n",
              "      <th></th>\n",
              "      <th>Age</th>\n",
              "      <th>SibSp</th>\n",
              "      <th>Parch</th>\n",
              "      <th>Fare</th>\n",
              "    </tr>\n",
              "  </thead>\n",
              "  <tbody>\n",
              "    <tr>\n",
              "      <th>count</th>\n",
              "      <td>573.000000</td>\n",
              "      <td>711.000000</td>\n",
              "      <td>711.000000</td>\n",
              "      <td>711.000000</td>\n",
              "    </tr>\n",
              "    <tr>\n",
              "      <th>mean</th>\n",
              "      <td>28.845986</td>\n",
              "      <td>0.542897</td>\n",
              "      <td>0.393812</td>\n",
              "      <td>31.973669</td>\n",
              "    </tr>\n",
              "    <tr>\n",
              "      <th>std</th>\n",
              "      <td>14.282324</td>\n",
              "      <td>1.112314</td>\n",
              "      <td>0.821998</td>\n",
              "      <td>50.468437</td>\n",
              "    </tr>\n",
              "    <tr>\n",
              "      <th>min</th>\n",
              "      <td>0.420000</td>\n",
              "      <td>0.000000</td>\n",
              "      <td>0.000000</td>\n",
              "      <td>0.000000</td>\n",
              "    </tr>\n",
              "    <tr>\n",
              "      <th>25%</th>\n",
              "      <td>19.000000</td>\n",
              "      <td>0.000000</td>\n",
              "      <td>0.000000</td>\n",
              "      <td>7.925000</td>\n",
              "    </tr>\n",
              "    <tr>\n",
              "      <th>50%</th>\n",
              "      <td>28.000000</td>\n",
              "      <td>0.000000</td>\n",
              "      <td>0.000000</td>\n",
              "      <td>14.458300</td>\n",
              "    </tr>\n",
              "    <tr>\n",
              "      <th>75%</th>\n",
              "      <td>36.500000</td>\n",
              "      <td>1.000000</td>\n",
              "      <td>0.000000</td>\n",
              "      <td>30.847900</td>\n",
              "    </tr>\n",
              "    <tr>\n",
              "      <th>max</th>\n",
              "      <td>80.000000</td>\n",
              "      <td>8.000000</td>\n",
              "      <td>6.000000</td>\n",
              "      <td>512.329200</td>\n",
              "    </tr>\n",
              "  </tbody>\n",
              "</table>\n",
              "</div>"
            ],
            "text/plain": [
              "              Age       SibSp       Parch        Fare\n",
              "count  573.000000  711.000000  711.000000  711.000000\n",
              "mean    28.845986    0.542897    0.393812   31.973669\n",
              "std     14.282324    1.112314    0.821998   50.468437\n",
              "min      0.420000    0.000000    0.000000    0.000000\n",
              "25%     19.000000    0.000000    0.000000    7.925000\n",
              "50%     28.000000    0.000000    0.000000   14.458300\n",
              "75%     36.500000    1.000000    0.000000   30.847900\n",
              "max     80.000000    8.000000    6.000000  512.329200"
            ]
          },
          "metadata": {},
          "execution_count": 299
        }
      ]
    },
    {
      "cell_type": "code",
      "metadata": {
        "colab": {
          "base_uri": "https://localhost:8080/",
          "height": 204
        },
        "id": "Vb1vDxlF-EkM",
        "outputId": "ffdc4a24-000a-4451-ad18-00fc04758d6a"
      },
      "source": [
        "train.head(5)"
      ],
      "execution_count": 300,
      "outputs": [
        {
          "output_type": "execute_result",
          "data": {
            "text/html": [
              "<div>\n",
              "<style scoped>\n",
              "    .dataframe tbody tr th:only-of-type {\n",
              "        vertical-align: middle;\n",
              "    }\n",
              "\n",
              "    .dataframe tbody tr th {\n",
              "        vertical-align: top;\n",
              "    }\n",
              "\n",
              "    .dataframe thead th {\n",
              "        text-align: right;\n",
              "    }\n",
              "</style>\n",
              "<table border=\"1\" class=\"dataframe\">\n",
              "  <thead>\n",
              "    <tr style=\"text-align: right;\">\n",
              "      <th></th>\n",
              "      <th>Survived</th>\n",
              "      <th>Pclass</th>\n",
              "      <th>Sex</th>\n",
              "      <th>Age</th>\n",
              "      <th>SibSp</th>\n",
              "      <th>Parch</th>\n",
              "      <th>Fare</th>\n",
              "      <th>Embarked</th>\n",
              "    </tr>\n",
              "  </thead>\n",
              "  <tbody>\n",
              "    <tr>\n",
              "      <th>0</th>\n",
              "      <td>Yes</td>\n",
              "      <td>Upper</td>\n",
              "      <td>female</td>\n",
              "      <td>33.0</td>\n",
              "      <td>1</td>\n",
              "      <td>0</td>\n",
              "      <td>90.0000</td>\n",
              "      <td>Queenstown</td>\n",
              "    </tr>\n",
              "    <tr>\n",
              "      <th>1</th>\n",
              "      <td>No</td>\n",
              "      <td>Lower</td>\n",
              "      <td>male</td>\n",
              "      <td>20.0</td>\n",
              "      <td>0</td>\n",
              "      <td>0</td>\n",
              "      <td>7.8542</td>\n",
              "      <td>Southampton</td>\n",
              "    </tr>\n",
              "    <tr>\n",
              "      <th>2</th>\n",
              "      <td>No</td>\n",
              "      <td>Middle</td>\n",
              "      <td>male</td>\n",
              "      <td>50.0</td>\n",
              "      <td>0</td>\n",
              "      <td>0</td>\n",
              "      <td>13.0000</td>\n",
              "      <td>Southampton</td>\n",
              "    </tr>\n",
              "    <tr>\n",
              "      <th>3</th>\n",
              "      <td>Yes</td>\n",
              "      <td>Upper</td>\n",
              "      <td>female</td>\n",
              "      <td>18.0</td>\n",
              "      <td>2</td>\n",
              "      <td>2</td>\n",
              "      <td>262.3750</td>\n",
              "      <td>Cherbourg</td>\n",
              "    </tr>\n",
              "    <tr>\n",
              "      <th>4</th>\n",
              "      <td>No</td>\n",
              "      <td>Middle</td>\n",
              "      <td>male</td>\n",
              "      <td>34.0</td>\n",
              "      <td>0</td>\n",
              "      <td>0</td>\n",
              "      <td>13.0000</td>\n",
              "      <td>Southampton</td>\n",
              "    </tr>\n",
              "  </tbody>\n",
              "</table>\n",
              "</div>"
            ],
            "text/plain": [
              "  Survived  Pclass     Sex   Age  SibSp  Parch      Fare     Embarked\n",
              "0      Yes   Upper  female  33.0      1      0   90.0000   Queenstown\n",
              "1       No   Lower    male  20.0      0      0    7.8542  Southampton\n",
              "2       No  Middle    male  50.0      0      0   13.0000  Southampton\n",
              "3      Yes   Upper  female  18.0      2      2  262.3750    Cherbourg\n",
              "4       No  Middle    male  34.0      0      0   13.0000  Southampton"
            ]
          },
          "metadata": {},
          "execution_count": 300
        }
      ]
    },
    {
      "cell_type": "code",
      "metadata": {
        "colab": {
          "base_uri": "https://localhost:8080/"
        },
        "id": "3j8H-Y5n-VIK",
        "outputId": "5275d718-5c89-46d5-f6e3-61b1da7cde27"
      },
      "source": [
        "train.isna().sum()"
      ],
      "execution_count": 310,
      "outputs": [
        {
          "output_type": "execute_result",
          "data": {
            "text/plain": [
              "Survived    0\n",
              "Pclass      0\n",
              "Sex         0\n",
              "Age         0\n",
              "SibSp       0\n",
              "Parch       0\n",
              "Fare        0\n",
              "Embarked    0\n",
              "dtype: int64"
            ]
          },
          "metadata": {},
          "execution_count": 310
        }
      ]
    },
    {
      "cell_type": "code",
      "metadata": {
        "colab": {
          "base_uri": "https://localhost:8080/"
        },
        "id": "8_snerr7-hwD",
        "outputId": "60356ef8-f97b-4dc2-a543-0b32d81a62b4"
      },
      "source": [
        "train.shape"
      ],
      "execution_count": 173,
      "outputs": [
        {
          "output_type": "execute_result",
          "data": {
            "text/plain": [
              "(711, 8)"
            ]
          },
          "metadata": {},
          "execution_count": 173
        }
      ]
    },
    {
      "cell_type": "code",
      "metadata": {
        "id": "AvoRUw-q-mju"
      },
      "source": [
        "mean=np.mean(train.Age)\n",
        "train.Age=train.Age.fillna(mean)\n",
        "test.Age=test.Age.fillna(mean)"
      ],
      "execution_count": 309,
      "outputs": []
    },
    {
      "cell_type": "code",
      "metadata": {
        "colab": {
          "base_uri": "https://localhost:8080/"
        },
        "id": "wO8SFC93fPJU",
        "outputId": "4a7b94b3-3f3e-4dde-edaa-268f2d53148d"
      },
      "source": [
        "mean=np.mean(train.Age)\n",
        "mean"
      ],
      "execution_count": 308,
      "outputs": [
        {
          "output_type": "execute_result",
          "data": {
            "text/plain": [
              "28.845986038394415"
            ]
          },
          "metadata": {},
          "execution_count": 308
        }
      ]
    },
    {
      "cell_type": "code",
      "metadata": {
        "id": "N15fB-1z_CJN"
      },
      "source": [
        "train.Survived=train.Survived.map({'No': 0,'Yes':1})\n",
        "test.Survived=test.Survived.map({'No': 0,'Yes':1})\n",
        "train.Sex=train.Sex.map({'female':0,'male':1})\n",
        "test.Sex=test.Sex.map({'female':0,'male':1})\n",
        "train.Pclass=train.Pclass.map({'Lower':3,'Middle':2,'Upper':1})\n",
        "test.Pclass=test.Pclass.map({'Lower':3,'Middle':2,'Upper':1})"
      ],
      "execution_count": 313,
      "outputs": []
    },
    {
      "cell_type": "code",
      "metadata": {
        "id": "5ASdr0g3hEiQ"
      },
      "source": [
        "train=pd.get_dummies(data=train, columns=['Embarked'])\n",
        "test=pd.get_dummies(data=test, columns=['Embarked'])"
      ],
      "execution_count": 331,
      "outputs": []
    },
    {
      "cell_type": "code",
      "metadata": {
        "colab": {
          "base_uri": "https://localhost:8080/",
          "height": 386
        },
        "id": "kQ7lDHAN_Qbu",
        "outputId": "d74d9cdf-d174-4fe6-af4d-43e754ddb818"
      },
      "source": [
        "\n",
        "\n",
        "sns.displot(train.Age)"
      ],
      "execution_count": 323,
      "outputs": [
        {
          "output_type": "execute_result",
          "data": {
            "text/plain": [
              "<seaborn.axisgrid.FacetGrid at 0x7f98b2c069d0>"
            ]
          },
          "metadata": {},
          "execution_count": 323
        },
        {
          "output_type": "display_data",
          "data": {
            "image/png": "[encoded data removed]",
            "text/plain": [
              "<Figure size 360x360 with 1 Axes>"
            ]
          },
          "metadata": {
            "needs_background": "light"
          }
        }
      ]
    },
    {
      "cell_type": "code",
      "metadata": {
        "id": "ZcgCTQGcHeCs"
      },
      "source": [
        "#train=train.drop(train[train.Age>=70].index)"
      ],
      "execution_count": 119,
      "outputs": []
    },
    {
      "cell_type": "code",
      "metadata": {
        "colab": {
          "base_uri": "https://localhost:8080/",
          "height": 386
        },
        "id": "TnwKHsP_ADvv",
        "outputId": "6701fb00-6952-4871-8b0a-575f880cd6fc"
      },
      "source": [
        "sns.displot(train.SibSp)"
      ],
      "execution_count": 324,
      "outputs": [
        {
          "output_type": "execute_result",
          "data": {
            "text/plain": [
              "<seaborn.axisgrid.FacetGrid at 0x7f98ac905850>"
            ]
          },
          "metadata": {},
          "execution_count": 324
        },
        {
          "output_type": "display_data",
          "data": {
            "image/png": "[encoded data removed]",
            "text/plain": [
              "<Figure size 360x360 with 1 Axes>"
            ]
          },
          "metadata": {
            "needs_background": "light"
          }
        }
      ]
    },
    {
      "cell_type": "code",
      "metadata": {
        "id": "IocMBXn3HtwV"
      },
      "source": [
        "#train=train.drop(train[train.SibSp>=7].index)"
      ],
      "execution_count": 120,
      "outputs": []
    },
    {
      "cell_type": "code",
      "metadata": {
        "colab": {
          "base_uri": "https://localhost:8080/",
          "height": 386
        },
        "id": "VLSfxx4pAD4g",
        "outputId": "610962ad-47e0-4493-9c3c-2557e2b91635"
      },
      "source": [
        "sns.displot(train.Parch)"
      ],
      "execution_count": 322,
      "outputs": [
        {
          "output_type": "execute_result",
          "data": {
            "text/plain": [
              "<seaborn.axisgrid.FacetGrid at 0x7f98ac99dd50>"
            ]
          },
          "metadata": {},
          "execution_count": 322
        },
        {
          "output_type": "display_data",
          "data": {
            "image/png": "[encoded data removed]",
            "text/plain": [
              "<Figure size 360x360 with 1 Axes>"
            ]
          },
          "metadata": {
            "needs_background": "light"
          }
        }
      ]
    },
    {
      "cell_type": "code",
      "metadata": {
        "colab": {
          "base_uri": "https://localhost:8080/",
          "height": 386
        },
        "id": "biEJE5IVAD-9",
        "outputId": "16d1c49b-b883-457e-e25b-7c9fc006ed7a"
      },
      "source": [
        "sns.displot(train.Fare)"
      ],
      "execution_count": 325,
      "outputs": [
        {
          "output_type": "execute_result",
          "data": {
            "text/plain": [
              "<seaborn.axisgrid.FacetGrid at 0x7f98ac7d5e90>"
            ]
          },
          "metadata": {},
          "execution_count": 325
        },
        {
          "output_type": "display_data",
          "data": {
            "image/png": "[encoded data removed]",
            "text/plain": [
              "<Figure size 360x360 with 1 Axes>"
            ]
          },
          "metadata": {
            "needs_background": "light"
          }
        }
      ]
    },
    {
      "cell_type": "code",
      "metadata": {
        "id": "yEvSztH_H0Iy"
      },
      "source": [
        "#train=train.drop(train[train.Fare>=400].index)"
      ],
      "execution_count": 121,
      "outputs": []
    },
    {
      "cell_type": "code",
      "metadata": {
        "colab": {
          "base_uri": "https://localhost:8080/"
        },
        "id": "5sL-Rmo8JB2C",
        "outputId": "f62521d2-1e74-4099-99d1-00483cdb673e"
      },
      "source": [
        "train.shape"
      ],
      "execution_count": 317,
      "outputs": [
        {
          "output_type": "execute_result",
          "data": {
            "text/plain": [
              "(711, 8)"
            ]
          },
          "metadata": {},
          "execution_count": 317
        }
      ]
    },
    {
      "cell_type": "markdown",
      "metadata": {
        "id": "BYOStAe-JAxk"
      },
      "source": [
        ""
      ]
    },
    {
      "cell_type": "markdown",
      "metadata": {
        "id": "G6i_bf0F_gP8"
      },
      "source": [
        "Normalizar (Age, SibSp, Parch, Fare)\n",
        "\n",
        "Detección Outlier"
      ]
    },
    {
      "cell_type": "code",
      "metadata": {
        "id": "BqDwxL25_mGc"
      },
      "source": [
        "from sklearn.preprocessing import StandardScaler\n",
        "from sklearn.preprocessing import MinMaxScaler"
      ],
      "execution_count": 78,
      "outputs": []
    },
    {
      "cell_type": "code",
      "metadata": {
        "id": "7l5nj6ulA52z"
      },
      "source": [
        "scaled_features = train.copy()\n",
        "col_names = ['Age','SibSp','Parch','Fare']\n",
        "features = train[col_names]\n",
        "scaler = StandardScaler().fit(features.values)\n",
        "features = scaler.transform(features.values)"
      ],
      "execution_count": 332,
      "outputs": []
    },
    {
      "cell_type": "code",
      "metadata": {
        "colab": {
          "base_uri": "https://localhost:8080/"
        },
        "id": "SCLX-tM4B245",
        "outputId": "7aa79571-3e0d-4080-e9ae-6c190ab8e1ef"
      },
      "source": [
        "train[col_names] = features\n",
        "print(train)"
      ],
      "execution_count": 333,
      "outputs": [
        {
          "output_type": "stream",
          "name": "stdout",
          "text": [
            "     Survived  Pclass  ...  Embarked_Queenstown  Embarked_Southampton\n",
            "0           1       1  ...                    1                     0\n",
            "1           0       3  ...                    0                     1\n",
            "2           0       2  ...                    0                     1\n",
            "3           1       1  ...                    0                     0\n",
            "4           0       2  ...                    0                     1\n",
            "..        ...     ...  ...                  ...                   ...\n",
            "706         0       1  ...                    0                     1\n",
            "707         0       3  ...                    0                     1\n",
            "708         0       2  ...                    0                     1\n",
            "709         0       1  ...                    0                     1\n",
            "710         0       3  ...                    0                     1\n",
            "\n",
            "[711 rows x 10 columns]\n"
          ]
        }
      ]
    },
    {
      "cell_type": "code",
      "metadata": {
        "colab": {
          "base_uri": "https://localhost:8080/"
        },
        "id": "LUKh-Oy7iF0o",
        "outputId": "67e8b493-f612-4dae-96ba-dd1b71615e21"
      },
      "source": [
        "print(train.SibSp)"
      ],
      "execution_count": 334,
      "outputs": [
        {
          "output_type": "stream",
          "name": "stdout",
          "text": [
            "0      0.411237\n",
            "1     -0.488423\n",
            "2     -0.488423\n",
            "3      1.310897\n",
            "4     -0.488423\n",
            "         ...   \n",
            "706   -0.488423\n",
            "707   -0.488423\n",
            "708   -0.488423\n",
            "709    0.411237\n",
            "710   -0.488423\n",
            "Name: SibSp, Length: 711, dtype: float64\n"
          ]
        }
      ]
    },
    {
      "cell_type": "code",
      "metadata": {
        "id": "_5A-XkTjDbLj"
      },
      "source": [
        "\n",
        "features_test = test[col_names]\n",
        "features_test = scaler.transform(features_test.values)\n",
        "test[col_names]=features_test"
      ],
      "execution_count": 335,
      "outputs": []
    },
    {
      "cell_type": "code",
      "metadata": {
        "colab": {
          "base_uri": "https://localhost:8080/",
          "height": 350
        },
        "id": "-fg4CFuaEVhY",
        "outputId": "35137862-dacc-43ff-e43d-57fab7d4d716"
      },
      "source": [
        "sns.boxplot(test.Age)"
      ],
      "execution_count": 183,
      "outputs": [
        {
          "output_type": "stream",
          "name": "stderr",
          "text": [
            "/usr/local/lib/python3.7/dist-packages/seaborn/_decorators.py:43: FutureWarning: Pass the following variable as a keyword arg: x. From version 0.12, the only valid positional argument will be `data`, and passing other arguments without an explicit keyword will result in an error or misinterpretation.\n",
            "  FutureWarning\n"
          ]
        },
        {
          "output_type": "execute_result",
          "data": {
            "text/plain": [
              "<matplotlib.axes._subplots.AxesSubplot at 0x7f98b6266310>"
            ]
          },
          "metadata": {},
          "execution_count": 183
        },
        {
          "output_type": "display_data",
          "data": {
            "image/png": "[encoded data removed]",
            "text/plain": [
              "<Figure size 432x288 with 1 Axes>"
            ]
          },
          "metadata": {
            "needs_background": "light"
          }
        }
      ]
    },
    {
      "cell_type": "code",
      "metadata": {
        "colab": {
          "base_uri": "https://localhost:8080/",
          "height": 350
        },
        "id": "SDh8cxBMEns3",
        "outputId": "6e1b0934-9836-4914-d859-1b3b3dd79f49"
      },
      "source": [
        "sns.boxplot(test.SibSp)"
      ],
      "execution_count": 329,
      "outputs": [
        {
          "output_type": "stream",
          "name": "stderr",
          "text": [
            "/usr/local/lib/python3.7/dist-packages/seaborn/_decorators.py:43: FutureWarning: Pass the following variable as a keyword arg: x. From version 0.12, the only valid positional argument will be `data`, and passing other arguments without an explicit keyword will result in an error or misinterpretation.\n",
            "  FutureWarning\n"
          ]
        },
        {
          "output_type": "execute_result",
          "data": {
            "text/plain": [
              "<matplotlib.axes._subplots.AxesSubplot at 0x7f98ae2cc050>"
            ]
          },
          "metadata": {},
          "execution_count": 329
        },
        {
          "output_type": "display_data",
          "data": {
            "image/png": "[encoded data removed]",
            "text/plain": [
              "<Figure size 432x288 with 1 Axes>"
            ]
          },
          "metadata": {
            "needs_background": "light"
          }
        }
      ]
    },
    {
      "cell_type": "code",
      "metadata": {
        "colab": {
          "base_uri": "https://localhost:8080/",
          "height": 350
        },
        "id": "jFza1CDyEsxN",
        "outputId": "daa71b6d-2fc3-4f2e-d07d-d2f828e3f524"
      },
      "source": [
        "sns.boxplot(train.Parch)"
      ],
      "execution_count": 185,
      "outputs": [
        {
          "output_type": "stream",
          "name": "stderr",
          "text": [
            "/usr/local/lib/python3.7/dist-packages/seaborn/_decorators.py:43: FutureWarning: Pass the following variable as a keyword arg: x. From version 0.12, the only valid positional argument will be `data`, and passing other arguments without an explicit keyword will result in an error or misinterpretation.\n",
            "  FutureWarning\n"
          ]
        },
        {
          "output_type": "execute_result",
          "data": {
            "text/plain": [
              "<matplotlib.axes._subplots.AxesSubplot at 0x7f98b5692a50>"
            ]
          },
          "metadata": {},
          "execution_count": 185
        },
        {
          "output_type": "display_data",
          "data": {
            "image/png": "[encoded data removed]",
            "text/plain": [
              "<Figure size 432x288 with 1 Axes>"
            ]
          },
          "metadata": {
            "needs_background": "light"
          }
        }
      ]
    },
    {
      "cell_type": "code",
      "metadata": {
        "colab": {
          "base_uri": "https://localhost:8080/",
          "height": 350
        },
        "id": "s07uvU2eExeV",
        "outputId": "63fb84fc-b7b5-4cb1-d907-d517158dd2c7"
      },
      "source": [
        "sns.boxplot(train.Fare)"
      ],
      "execution_count": 186,
      "outputs": [
        {
          "output_type": "stream",
          "name": "stderr",
          "text": [
            "/usr/local/lib/python3.7/dist-packages/seaborn/_decorators.py:43: FutureWarning: Pass the following variable as a keyword arg: x. From version 0.12, the only valid positional argument will be `data`, and passing other arguments without an explicit keyword will result in an error or misinterpretation.\n",
            "  FutureWarning\n"
          ]
        },
        {
          "output_type": "execute_result",
          "data": {
            "text/plain": [
              "<matplotlib.axes._subplots.AxesSubplot at 0x7f98b55f2450>"
            ]
          },
          "metadata": {},
          "execution_count": 186
        },
        {
          "output_type": "display_data",
          "data": {
            "image/png": "[encoded data removed]",
            "text/plain": [
              "<Figure size 432x288 with 1 Axes>"
            ]
          },
          "metadata": {
            "needs_background": "light"
          }
        }
      ]
    },
    {
      "cell_type": "code",
      "metadata": {
        "id": "nMRmIWt9Ezb1"
      },
      "source": [
        "X_train=train.drop(['Survived'],axis=1)\n"
      ],
      "execution_count": 337,
      "outputs": []
    },
    {
      "cell_type": "code",
      "metadata": {
        "colab": {
          "base_uri": "https://localhost:8080/",
          "height": 224
        },
        "id": "MAvqYpqziaOq",
        "outputId": "83215227-782c-49d0-8e71-be2bbfb9ecef"
      },
      "source": [
        "X_train.head()"
      ],
      "execution_count": 339,
      "outputs": [
        {
          "output_type": "execute_result",
          "data": {
            "text/html": [
              "<div>\n",
              "<style scoped>\n",
              "    .dataframe tbody tr th:only-of-type {\n",
              "        vertical-align: middle;\n",
              "    }\n",
              "\n",
              "    .dataframe tbody tr th {\n",
              "        vertical-align: top;\n",
              "    }\n",
              "\n",
              "    .dataframe thead th {\n",
              "        text-align: right;\n",
              "    }\n",
              "</style>\n",
              "<table border=\"1\" class=\"dataframe\">\n",
              "  <thead>\n",
              "    <tr style=\"text-align: right;\">\n",
              "      <th></th>\n",
              "      <th>Pclass</th>\n",
              "      <th>Sex</th>\n",
              "      <th>Age</th>\n",
              "      <th>SibSp</th>\n",
              "      <th>Parch</th>\n",
              "      <th>Fare</th>\n",
              "      <th>Embarked_Cherbourg</th>\n",
              "      <th>Embarked_Queenstown</th>\n",
              "      <th>Embarked_Southampton</th>\n",
              "    </tr>\n",
              "  </thead>\n",
              "  <tbody>\n",
              "    <tr>\n",
              "      <th>0</th>\n",
              "      <td>1</td>\n",
              "      <td>0</td>\n",
              "      <td>0.324269</td>\n",
              "      <td>0.411237</td>\n",
              "      <td>-0.479428</td>\n",
              "      <td>1.150564</td>\n",
              "      <td>0</td>\n",
              "      <td>1</td>\n",
              "      <td>0</td>\n",
              "    </tr>\n",
              "    <tr>\n",
              "      <th>1</th>\n",
              "      <td>3</td>\n",
              "      <td>1</td>\n",
              "      <td>-0.690533</td>\n",
              "      <td>-0.488423</td>\n",
              "      <td>-0.479428</td>\n",
              "      <td>-0.478248</td>\n",
              "      <td>0</td>\n",
              "      <td>0</td>\n",
              "      <td>1</td>\n",
              "    </tr>\n",
              "    <tr>\n",
              "      <th>2</th>\n",
              "      <td>2</td>\n",
              "      <td>1</td>\n",
              "      <td>1.651318</td>\n",
              "      <td>-0.488423</td>\n",
              "      <td>-0.479428</td>\n",
              "      <td>-0.376216</td>\n",
              "      <td>0</td>\n",
              "      <td>0</td>\n",
              "      <td>1</td>\n",
              "    </tr>\n",
              "    <tr>\n",
              "      <th>3</th>\n",
              "      <td>1</td>\n",
              "      <td>0</td>\n",
              "      <td>-0.846656</td>\n",
              "      <td>1.310897</td>\n",
              "      <td>1.955382</td>\n",
              "      <td>4.568470</td>\n",
              "      <td>1</td>\n",
              "      <td>0</td>\n",
              "      <td>0</td>\n",
              "    </tr>\n",
              "    <tr>\n",
              "      <th>4</th>\n",
              "      <td>2</td>\n",
              "      <td>1</td>\n",
              "      <td>0.402331</td>\n",
              "      <td>-0.488423</td>\n",
              "      <td>-0.479428</td>\n",
              "      <td>-0.376216</td>\n",
              "      <td>0</td>\n",
              "      <td>0</td>\n",
              "      <td>1</td>\n",
              "    </tr>\n",
              "  </tbody>\n",
              "</table>\n",
              "</div>"
            ],
            "text/plain": [
              "   Pclass  Sex  ...  Embarked_Queenstown  Embarked_Southampton\n",
              "0       1    0  ...                    1                     0\n",
              "1       3    1  ...                    0                     1\n",
              "2       2    1  ...                    0                     1\n",
              "3       1    0  ...                    0                     0\n",
              "4       2    1  ...                    0                     1\n",
              "\n",
              "[5 rows x 9 columns]"
            ]
          },
          "metadata": {},
          "execution_count": 339
        }
      ]
    },
    {
      "cell_type": "code",
      "metadata": {
        "id": "a_WrgqOQPLH0"
      },
      "source": [
        "y_train = train.Survived"
      ],
      "execution_count": 340,
      "outputs": []
    },
    {
      "cell_type": "code",
      "metadata": {
        "id": "THJJOLR_PEZO"
      },
      "source": [
        "X_test=test.drop(['Survived'],axis=1)\n",
        "y_test = test.Survived"
      ],
      "execution_count": 341,
      "outputs": []
    },
    {
      "cell_type": "code",
      "metadata": {
        "colab": {
          "base_uri": "https://localhost:8080/"
        },
        "id": "MhwoF7uwSCLb",
        "outputId": "5d4939fc-4811-45bf-f0c1-1e7b67fb2573"
      },
      "source": [
        "X_test.shape"
      ],
      "execution_count": 342,
      "outputs": [
        {
          "output_type": "execute_result",
          "data": {
            "text/plain": [
              "(179, 9)"
            ]
          },
          "metadata": {},
          "execution_count": 342
        }
      ]
    },
    {
      "cell_type": "code",
      "metadata": {
        "colab": {
          "base_uri": "https://localhost:8080/",
          "height": 224
        },
        "id": "KzO7ZhULTdTq",
        "outputId": "975b9ff0-2fd9-4f67-9083-0c56d25e46db"
      },
      "source": [
        "X_train.head()"
      ],
      "execution_count": 356,
      "outputs": [
        {
          "output_type": "execute_result",
          "data": {
            "text/html": [
              "<div>\n",
              "<style scoped>\n",
              "    .dataframe tbody tr th:only-of-type {\n",
              "        vertical-align: middle;\n",
              "    }\n",
              "\n",
              "    .dataframe tbody tr th {\n",
              "        vertical-align: top;\n",
              "    }\n",
              "\n",
              "    .dataframe thead th {\n",
              "        text-align: right;\n",
              "    }\n",
              "</style>\n",
              "<table border=\"1\" class=\"dataframe\">\n",
              "  <thead>\n",
              "    <tr style=\"text-align: right;\">\n",
              "      <th></th>\n",
              "      <th>Pclass</th>\n",
              "      <th>Sex</th>\n",
              "      <th>Age</th>\n",
              "      <th>SibSp</th>\n",
              "      <th>Parch</th>\n",
              "      <th>Fare</th>\n",
              "      <th>Embarked_Cherbourg</th>\n",
              "      <th>Embarked_Queenstown</th>\n",
              "      <th>Embarked_Southampton</th>\n",
              "    </tr>\n",
              "  </thead>\n",
              "  <tbody>\n",
              "    <tr>\n",
              "      <th>0</th>\n",
              "      <td>1</td>\n",
              "      <td>0</td>\n",
              "      <td>0.324269</td>\n",
              "      <td>0.411237</td>\n",
              "      <td>-0.479428</td>\n",
              "      <td>1.150564</td>\n",
              "      <td>0</td>\n",
              "      <td>1</td>\n",
              "      <td>0</td>\n",
              "    </tr>\n",
              "    <tr>\n",
              "      <th>1</th>\n",
              "      <td>3</td>\n",
              "      <td>1</td>\n",
              "      <td>-0.690533</td>\n",
              "      <td>-0.488423</td>\n",
              "      <td>-0.479428</td>\n",
              "      <td>-0.478248</td>\n",
              "      <td>0</td>\n",
              "      <td>0</td>\n",
              "      <td>1</td>\n",
              "    </tr>\n",
              "    <tr>\n",
              "      <th>2</th>\n",
              "      <td>2</td>\n",
              "      <td>1</td>\n",
              "      <td>1.651318</td>\n",
              "      <td>-0.488423</td>\n",
              "      <td>-0.479428</td>\n",
              "      <td>-0.376216</td>\n",
              "      <td>0</td>\n",
              "      <td>0</td>\n",
              "      <td>1</td>\n",
              "    </tr>\n",
              "    <tr>\n",
              "      <th>3</th>\n",
              "      <td>1</td>\n",
              "      <td>0</td>\n",
              "      <td>-0.846656</td>\n",
              "      <td>1.310897</td>\n",
              "      <td>1.955382</td>\n",
              "      <td>4.568470</td>\n",
              "      <td>1</td>\n",
              "      <td>0</td>\n",
              "      <td>0</td>\n",
              "    </tr>\n",
              "    <tr>\n",
              "      <th>4</th>\n",
              "      <td>2</td>\n",
              "      <td>1</td>\n",
              "      <td>0.402331</td>\n",
              "      <td>-0.488423</td>\n",
              "      <td>-0.479428</td>\n",
              "      <td>-0.376216</td>\n",
              "      <td>0</td>\n",
              "      <td>0</td>\n",
              "      <td>1</td>\n",
              "    </tr>\n",
              "  </tbody>\n",
              "</table>\n",
              "</div>"
            ],
            "text/plain": [
              "   Pclass  Sex  ...  Embarked_Queenstown  Embarked_Southampton\n",
              "0       1    0  ...                    1                     0\n",
              "1       3    1  ...                    0                     1\n",
              "2       2    1  ...                    0                     1\n",
              "3       1    0  ...                    0                     0\n",
              "4       2    1  ...                    0                     1\n",
              "\n",
              "[5 rows x 9 columns]"
            ]
          },
          "metadata": {},
          "execution_count": 356
        }
      ]
    },
    {
      "cell_type": "markdown",
      "metadata": {
        "id": "89ypwZjmPuTm"
      },
      "source": [
        "# **Modelo**"
      ]
    },
    {
      "cell_type": "code",
      "metadata": {
        "id": "DPQEphByPqa5"
      },
      "source": [
        "import numpy as np\n",
        "import tensorflow as tf\n",
        "from tensorflow.keras.layers import Dense, BatchNormalization, Dropout\n",
        "import matplotlib.pyplot as plt\n",
        "tf.random.set_seed(42)"
      ],
      "execution_count": 343,
      "outputs": []
    },
    {
      "cell_type": "code",
      "metadata": {
        "id": "kkODKAUXQAVT"
      },
      "source": [
        "model=tf.keras.Sequential()\n",
        "model.add(tf.keras.layers.Dense(4, input_shape=(9,),activation='relu'))\n",
        "model.add(tf.keras.layers.Dense(8,activation='relu'))\n",
        "model.add(tf.keras.layers.Dense(1,activation='sigmoid'))"
      ],
      "execution_count": 470,
      "outputs": []
    },
    {
      "cell_type": "code",
      "metadata": {
        "id": "2JF07ZadQikl"
      },
      "source": [
        "\n",
        "lr = .001\n",
        "batch_size = 150\n",
        "n_epochs = 150\n",
        "optimizer = tf.keras.optimizers.Adam(learning_rate=lr)\n"
      ],
      "execution_count": 471,
      "outputs": []
    },
    {
      "cell_type": "code",
      "metadata": {
        "id": "UcYLJXvCQ95a"
      },
      "source": [
        "model.compile(loss='binary_crossentropy',\n",
        "              optimizer=optimizer,\n",
        "              metrics=['accuracy'])"
      ],
      "execution_count": 472,
      "outputs": []
    },
    {
      "cell_type": "markdown",
      "metadata": {
        "id": "uzgvPB0BRZ8c"
      },
      "source": [
        "# **Entrenamiento**"
      ]
    },
    {
      "cell_type": "code",
      "metadata": {
        "colab": {
          "base_uri": "https://localhost:8080/"
        },
        "id": "5CUnl6r6RXZ6",
        "outputId": "9eaac080-99ab-4b29-b199-5c1a853cfb38"
      },
      "source": [
        "hist = model.fit(X_train, \n",
        "                 y_train, \n",
        "                 batch_size=batch_size, \n",
        "                 epochs=n_epochs, \n",
        "                 verbose=1, \n",
        "                 shuffle=True,\n",
        "                validation_data=(X_test, y_test))"
      ],
      "execution_count": 473,
      "outputs": [
        {
          "output_type": "stream",
          "name": "stdout",
          "text": [
            "Epoch 1/150\n",
            "5/5 [==============================] - 1s 52ms/step - loss: 0.6709 - accuracy: 0.6315 - val_loss: 0.6652 - val_accuracy: 0.6145\n",
            "Epoch 2/150\n",
            "5/5 [==============================] - 0s 9ms/step - loss: 0.6665 - accuracy: 0.6470 - val_loss: 0.6610 - val_accuracy: 0.6145\n",
            "Epoch 3/150\n",
            "5/5 [==============================] - 0s 12ms/step - loss: 0.6624 - accuracy: 0.6498 - val_loss: 0.6569 - val_accuracy: 0.6201\n",
            "Epoch 4/150\n",
            "5/5 [==============================] - 0s 10ms/step - loss: 0.6580 - accuracy: 0.6456 - val_loss: 0.6528 - val_accuracy: 0.6257\n",
            "Epoch 5/150\n",
            "5/5 [==============================] - 0s 9ms/step - loss: 0.6536 - accuracy: 0.6442 - val_loss: 0.6488 - val_accuracy: 0.6313\n",
            "Epoch 6/150\n",
            "5/5 [==============================] - 0s 9ms/step - loss: 0.6495 - accuracy: 0.6470 - val_loss: 0.6448 - val_accuracy: 0.6313\n",
            "Epoch 7/150\n",
            "5/5 [==============================] - 0s 11ms/step - loss: 0.6456 - accuracy: 0.6470 - val_loss: 0.6408 - val_accuracy: 0.6257\n",
            "Epoch 8/150\n",
            "5/5 [==============================] - 0s 12ms/step - loss: 0.6415 - accuracy: 0.6399 - val_loss: 0.6370 - val_accuracy: 0.6201\n",
            "Epoch 9/150\n",
            "5/5 [==============================] - 0s 9ms/step - loss: 0.6380 - accuracy: 0.6301 - val_loss: 0.6333 - val_accuracy: 0.6201\n",
            "Epoch 10/150\n",
            "5/5 [==============================] - 0s 10ms/step - loss: 0.6342 - accuracy: 0.6259 - val_loss: 0.6298 - val_accuracy: 0.6201\n",
            "Epoch 11/150\n",
            "5/5 [==============================] - 0s 9ms/step - loss: 0.6310 - accuracy: 0.6245 - val_loss: 0.6263 - val_accuracy: 0.6201\n",
            "Epoch 12/150\n",
            "5/5 [==============================] - 0s 9ms/step - loss: 0.6278 - accuracy: 0.6231 - val_loss: 0.6231 - val_accuracy: 0.6201\n",
            "Epoch 13/150\n",
            "5/5 [==============================] - 0s 11ms/step - loss: 0.6245 - accuracy: 0.6231 - val_loss: 0.6200 - val_accuracy: 0.6145\n",
            "Epoch 14/150\n",
            "5/5 [==============================] - 0s 11ms/step - loss: 0.6218 - accuracy: 0.6188 - val_loss: 0.6170 - val_accuracy: 0.6145\n",
            "Epoch 15/150\n",
            "5/5 [==============================] - 0s 11ms/step - loss: 0.6188 - accuracy: 0.6160 - val_loss: 0.6142 - val_accuracy: 0.6145\n",
            "Epoch 16/150\n",
            "5/5 [==============================] - 0s 12ms/step - loss: 0.6160 - accuracy: 0.6160 - val_loss: 0.6115 - val_accuracy: 0.6145\n",
            "Epoch 17/150\n",
            "5/5 [==============================] - 0s 10ms/step - loss: 0.6134 - accuracy: 0.6160 - val_loss: 0.6090 - val_accuracy: 0.6145\n",
            "Epoch 18/150\n",
            "5/5 [==============================] - 0s 13ms/step - loss: 0.6111 - accuracy: 0.6160 - val_loss: 0.6065 - val_accuracy: 0.6145\n",
            "Epoch 19/150\n",
            "5/5 [==============================] - 0s 9ms/step - loss: 0.6087 - accuracy: 0.6160 - val_loss: 0.6041 - val_accuracy: 0.6145\n",
            "Epoch 20/150\n",
            "5/5 [==============================] - 0s 8ms/step - loss: 0.6065 - accuracy: 0.6160 - val_loss: 0.6019 - val_accuracy: 0.6145\n",
            "Epoch 21/150\n",
            "5/5 [==============================] - 0s 11ms/step - loss: 0.6043 - accuracy: 0.6160 - val_loss: 0.5999 - val_accuracy: 0.6145\n",
            "Epoch 22/150\n",
            "5/5 [==============================] - 0s 9ms/step - loss: 0.6023 - accuracy: 0.6160 - val_loss: 0.5980 - val_accuracy: 0.6145\n",
            "Epoch 23/150\n",
            "5/5 [==============================] - 0s 11ms/step - loss: 0.6007 - accuracy: 0.6160 - val_loss: 0.5962 - val_accuracy: 0.6201\n",
            "Epoch 24/150\n",
            "5/5 [==============================] - 0s 9ms/step - loss: 0.5988 - accuracy: 0.6160 - val_loss: 0.5946 - val_accuracy: 0.6201\n",
            "Epoch 25/150\n",
            "5/5 [==============================] - 0s 10ms/step - loss: 0.5972 - accuracy: 0.6174 - val_loss: 0.5930 - val_accuracy: 0.6201\n",
            "Epoch 26/150\n",
            "5/5 [==============================] - 0s 12ms/step - loss: 0.5956 - accuracy: 0.6203 - val_loss: 0.5913 - val_accuracy: 0.6201\n",
            "Epoch 27/150\n",
            "5/5 [==============================] - 0s 11ms/step - loss: 0.5940 - accuracy: 0.6203 - val_loss: 0.5898 - val_accuracy: 0.6201\n",
            "Epoch 28/150\n",
            "5/5 [==============================] - 0s 9ms/step - loss: 0.5925 - accuracy: 0.6217 - val_loss: 0.5882 - val_accuracy: 0.6201\n",
            "Epoch 29/150\n",
            "5/5 [==============================] - 0s 11ms/step - loss: 0.5910 - accuracy: 0.6231 - val_loss: 0.5867 - val_accuracy: 0.6201\n",
            "Epoch 30/150\n",
            "5/5 [==============================] - 0s 10ms/step - loss: 0.5896 - accuracy: 0.6273 - val_loss: 0.5852 - val_accuracy: 0.6257\n",
            "Epoch 31/150\n",
            "5/5 [==============================] - 0s 10ms/step - loss: 0.5881 - accuracy: 0.6301 - val_loss: 0.5836 - val_accuracy: 0.6257\n",
            "Epoch 32/150\n",
            "5/5 [==============================] - 0s 15ms/step - loss: 0.5867 - accuracy: 0.6357 - val_loss: 0.5820 - val_accuracy: 0.6313\n",
            "Epoch 33/150\n",
            "5/5 [==============================] - 0s 10ms/step - loss: 0.5853 - accuracy: 0.6357 - val_loss: 0.5804 - val_accuracy: 0.6369\n",
            "Epoch 34/150\n",
            "5/5 [==============================] - 0s 9ms/step - loss: 0.5838 - accuracy: 0.6385 - val_loss: 0.5788 - val_accuracy: 0.6425\n",
            "Epoch 35/150\n",
            "5/5 [==============================] - 0s 9ms/step - loss: 0.5824 - accuracy: 0.6456 - val_loss: 0.5772 - val_accuracy: 0.6536\n",
            "Epoch 36/150\n",
            "5/5 [==============================] - 0s 9ms/step - loss: 0.5811 - accuracy: 0.6653 - val_loss: 0.5756 - val_accuracy: 0.6648\n",
            "Epoch 37/150\n",
            "5/5 [==============================] - 0s 10ms/step - loss: 0.5796 - accuracy: 0.6751 - val_loss: 0.5740 - val_accuracy: 0.6648\n",
            "Epoch 38/150\n",
            "5/5 [==============================] - 0s 10ms/step - loss: 0.5781 - accuracy: 0.6821 - val_loss: 0.5723 - val_accuracy: 0.6872\n",
            "Epoch 39/150\n",
            "5/5 [==============================] - 0s 9ms/step - loss: 0.5767 - accuracy: 0.6948 - val_loss: 0.5707 - val_accuracy: 0.6983\n",
            "Epoch 40/150\n",
            "5/5 [==============================] - 0s 10ms/step - loss: 0.5752 - accuracy: 0.6948 - val_loss: 0.5691 - val_accuracy: 0.6983\n",
            "Epoch 41/150\n",
            "5/5 [==============================] - 0s 9ms/step - loss: 0.5737 - accuracy: 0.6962 - val_loss: 0.5674 - val_accuracy: 0.6983\n",
            "Epoch 42/150\n",
            "5/5 [==============================] - 0s 9ms/step - loss: 0.5721 - accuracy: 0.7018 - val_loss: 0.5657 - val_accuracy: 0.7151\n",
            "Epoch 43/150\n",
            "5/5 [==============================] - 0s 12ms/step - loss: 0.5705 - accuracy: 0.7018 - val_loss: 0.5639 - val_accuracy: 0.7151\n",
            "Epoch 44/150\n",
            "5/5 [==============================] - 0s 10ms/step - loss: 0.5690 - accuracy: 0.7060 - val_loss: 0.5621 - val_accuracy: 0.7207\n",
            "Epoch 45/150\n",
            "5/5 [==============================] - 0s 11ms/step - loss: 0.5674 - accuracy: 0.7089 - val_loss: 0.5603 - val_accuracy: 0.7151\n",
            "Epoch 46/150\n",
            "5/5 [==============================] - 0s 11ms/step - loss: 0.5657 - accuracy: 0.7159 - val_loss: 0.5585 - val_accuracy: 0.7263\n",
            "Epoch 47/150\n",
            "5/5 [==============================] - 0s 9ms/step - loss: 0.5641 - accuracy: 0.7159 - val_loss: 0.5567 - val_accuracy: 0.7374\n",
            "Epoch 48/150\n",
            "5/5 [==============================] - 0s 9ms/step - loss: 0.5623 - accuracy: 0.7173 - val_loss: 0.5548 - val_accuracy: 0.7318\n",
            "Epoch 49/150\n",
            "5/5 [==============================] - 0s 10ms/step - loss: 0.5607 - accuracy: 0.7187 - val_loss: 0.5530 - val_accuracy: 0.7374\n",
            "Epoch 50/150\n",
            "5/5 [==============================] - 0s 10ms/step - loss: 0.5589 - accuracy: 0.7201 - val_loss: 0.5512 - val_accuracy: 0.7374\n",
            "Epoch 51/150\n",
            "5/5 [==============================] - 0s 10ms/step - loss: 0.5574 - accuracy: 0.7229 - val_loss: 0.5495 - val_accuracy: 0.7430\n",
            "Epoch 52/150\n",
            "5/5 [==============================] - 0s 9ms/step - loss: 0.5558 - accuracy: 0.7257 - val_loss: 0.5478 - val_accuracy: 0.7430\n",
            "Epoch 53/150\n",
            "5/5 [==============================] - 0s 10ms/step - loss: 0.5541 - accuracy: 0.7286 - val_loss: 0.5462 - val_accuracy: 0.7430\n",
            "Epoch 54/150\n",
            "5/5 [==============================] - 0s 9ms/step - loss: 0.5525 - accuracy: 0.7300 - val_loss: 0.5444 - val_accuracy: 0.7486\n",
            "Epoch 55/150\n",
            "5/5 [==============================] - 0s 10ms/step - loss: 0.5508 - accuracy: 0.7328 - val_loss: 0.5426 - val_accuracy: 0.7486\n",
            "Epoch 56/150\n",
            "5/5 [==============================] - 0s 10ms/step - loss: 0.5492 - accuracy: 0.7356 - val_loss: 0.5408 - val_accuracy: 0.7486\n",
            "Epoch 57/150\n",
            "5/5 [==============================] - 0s 9ms/step - loss: 0.5475 - accuracy: 0.7356 - val_loss: 0.5388 - val_accuracy: 0.7486\n",
            "Epoch 58/150\n",
            "5/5 [==============================] - 0s 10ms/step - loss: 0.5458 - accuracy: 0.7370 - val_loss: 0.5368 - val_accuracy: 0.7486\n",
            "Epoch 59/150\n",
            "5/5 [==============================] - 0s 10ms/step - loss: 0.5439 - accuracy: 0.7370 - val_loss: 0.5348 - val_accuracy: 0.7486\n",
            "Epoch 60/150\n",
            "5/5 [==============================] - 0s 11ms/step - loss: 0.5420 - accuracy: 0.7384 - val_loss: 0.5327 - val_accuracy: 0.7486\n",
            "Epoch 61/150\n",
            "5/5 [==============================] - 0s 11ms/step - loss: 0.5402 - accuracy: 0.7384 - val_loss: 0.5305 - val_accuracy: 0.7486\n",
            "Epoch 62/150\n",
            "5/5 [==============================] - 0s 9ms/step - loss: 0.5382 - accuracy: 0.7398 - val_loss: 0.5285 - val_accuracy: 0.7486\n",
            "Epoch 63/150\n",
            "5/5 [==============================] - 0s 13ms/step - loss: 0.5363 - accuracy: 0.7412 - val_loss: 0.5264 - val_accuracy: 0.7654\n",
            "Epoch 64/150\n",
            "5/5 [==============================] - 0s 9ms/step - loss: 0.5344 - accuracy: 0.7440 - val_loss: 0.5243 - val_accuracy: 0.7709\n",
            "Epoch 65/150\n",
            "5/5 [==============================] - 0s 9ms/step - loss: 0.5325 - accuracy: 0.7468 - val_loss: 0.5220 - val_accuracy: 0.7709\n",
            "Epoch 66/150\n",
            "5/5 [==============================] - 0s 9ms/step - loss: 0.5304 - accuracy: 0.7482 - val_loss: 0.5196 - val_accuracy: 0.7709\n",
            "Epoch 67/150\n",
            "5/5 [==============================] - 0s 11ms/step - loss: 0.5282 - accuracy: 0.7525 - val_loss: 0.5171 - val_accuracy: 0.7821\n",
            "Epoch 68/150\n",
            "5/5 [==============================] - 0s 11ms/step - loss: 0.5257 - accuracy: 0.7581 - val_loss: 0.5147 - val_accuracy: 0.7821\n",
            "Epoch 69/150\n",
            "5/5 [==============================] - 0s 12ms/step - loss: 0.5233 - accuracy: 0.7581 - val_loss: 0.5121 - val_accuracy: 0.7765\n",
            "Epoch 70/150\n",
            "5/5 [==============================] - 0s 10ms/step - loss: 0.5208 - accuracy: 0.7637 - val_loss: 0.5095 - val_accuracy: 0.7765\n",
            "Epoch 71/150\n",
            "5/5 [==============================] - 0s 11ms/step - loss: 0.5182 - accuracy: 0.7707 - val_loss: 0.5069 - val_accuracy: 0.7765\n",
            "Epoch 72/150\n",
            "5/5 [==============================] - 0s 11ms/step - loss: 0.5153 - accuracy: 0.7750 - val_loss: 0.5042 - val_accuracy: 0.7765\n",
            "Epoch 73/150\n",
            "5/5 [==============================] - 0s 10ms/step - loss: 0.5126 - accuracy: 0.7792 - val_loss: 0.5014 - val_accuracy: 0.7821\n",
            "Epoch 74/150\n",
            "5/5 [==============================] - 0s 11ms/step - loss: 0.5097 - accuracy: 0.7834 - val_loss: 0.4985 - val_accuracy: 0.7821\n",
            "Epoch 75/150\n",
            "5/5 [==============================] - 0s 10ms/step - loss: 0.5065 - accuracy: 0.7890 - val_loss: 0.4954 - val_accuracy: 0.7877\n",
            "Epoch 76/150\n",
            "5/5 [==============================] - 0s 11ms/step - loss: 0.5033 - accuracy: 0.7904 - val_loss: 0.4923 - val_accuracy: 0.7933\n",
            "Epoch 77/150\n",
            "5/5 [==============================] - 0s 10ms/step - loss: 0.5002 - accuracy: 0.7961 - val_loss: 0.4892 - val_accuracy: 0.7989\n",
            "Epoch 78/150\n",
            "5/5 [==============================] - 0s 9ms/step - loss: 0.4965 - accuracy: 0.7975 - val_loss: 0.4860 - val_accuracy: 0.8045\n",
            "Epoch 79/150\n",
            "5/5 [==============================] - 0s 10ms/step - loss: 0.4931 - accuracy: 0.7989 - val_loss: 0.4828 - val_accuracy: 0.8045\n",
            "Epoch 80/150\n",
            "5/5 [==============================] - 0s 9ms/step - loss: 0.4899 - accuracy: 0.8003 - val_loss: 0.4795 - val_accuracy: 0.8045\n",
            "Epoch 81/150\n",
            "5/5 [==============================] - 0s 10ms/step - loss: 0.4868 - accuracy: 0.8017 - val_loss: 0.4762 - val_accuracy: 0.8045\n",
            "Epoch 82/150\n",
            "5/5 [==============================] - 0s 9ms/step - loss: 0.4836 - accuracy: 0.8017 - val_loss: 0.4731 - val_accuracy: 0.7989\n",
            "Epoch 83/150\n",
            "5/5 [==============================] - 0s 10ms/step - loss: 0.4808 - accuracy: 0.8045 - val_loss: 0.4703 - val_accuracy: 0.7989\n",
            "Epoch 84/150\n",
            "5/5 [==============================] - 0s 9ms/step - loss: 0.4779 - accuracy: 0.8045 - val_loss: 0.4676 - val_accuracy: 0.8045\n",
            "Epoch 85/150\n",
            "5/5 [==============================] - 0s 8ms/step - loss: 0.4752 - accuracy: 0.8031 - val_loss: 0.4652 - val_accuracy: 0.8045\n",
            "Epoch 86/150\n",
            "5/5 [==============================] - 0s 9ms/step - loss: 0.4727 - accuracy: 0.8073 - val_loss: 0.4629 - val_accuracy: 0.8101\n",
            "Epoch 87/150\n",
            "5/5 [==============================] - 0s 13ms/step - loss: 0.4702 - accuracy: 0.8115 - val_loss: 0.4610 - val_accuracy: 0.8045\n",
            "Epoch 88/150\n",
            "5/5 [==============================] - 0s 9ms/step - loss: 0.4680 - accuracy: 0.8115 - val_loss: 0.4592 - val_accuracy: 0.7933\n",
            "Epoch 89/150\n",
            "5/5 [==============================] - 0s 10ms/step - loss: 0.4658 - accuracy: 0.8087 - val_loss: 0.4572 - val_accuracy: 0.7933\n",
            "Epoch 90/150\n",
            "5/5 [==============================] - 0s 9ms/step - loss: 0.4640 - accuracy: 0.8101 - val_loss: 0.4554 - val_accuracy: 0.7989\n",
            "Epoch 91/150\n",
            "5/5 [==============================] - 0s 10ms/step - loss: 0.4621 - accuracy: 0.8101 - val_loss: 0.4537 - val_accuracy: 0.7877\n",
            "Epoch 92/150\n",
            "5/5 [==============================] - 0s 10ms/step - loss: 0.4604 - accuracy: 0.8059 - val_loss: 0.4521 - val_accuracy: 0.7989\n",
            "Epoch 93/150\n",
            "5/5 [==============================] - 0s 9ms/step - loss: 0.4588 - accuracy: 0.8087 - val_loss: 0.4508 - val_accuracy: 0.7989\n",
            "Epoch 94/150\n",
            "5/5 [==============================] - 0s 10ms/step - loss: 0.4572 - accuracy: 0.8115 - val_loss: 0.4495 - val_accuracy: 0.7989\n",
            "Epoch 95/150\n",
            "5/5 [==============================] - 0s 13ms/step - loss: 0.4557 - accuracy: 0.8101 - val_loss: 0.4483 - val_accuracy: 0.7989\n",
            "Epoch 96/150\n",
            "5/5 [==============================] - 0s 10ms/step - loss: 0.4543 - accuracy: 0.8087 - val_loss: 0.4471 - val_accuracy: 0.7989\n",
            "Epoch 97/150\n",
            "5/5 [==============================] - 0s 10ms/step - loss: 0.4528 - accuracy: 0.8087 - val_loss: 0.4460 - val_accuracy: 0.7989\n",
            "Epoch 98/150\n",
            "5/5 [==============================] - 0s 10ms/step - loss: 0.4517 - accuracy: 0.8045 - val_loss: 0.4450 - val_accuracy: 0.8045\n",
            "Epoch 99/150\n",
            "5/5 [==============================] - 0s 9ms/step - loss: 0.4504 - accuracy: 0.8059 - val_loss: 0.4441 - val_accuracy: 0.8045\n",
            "Epoch 100/150\n",
            "5/5 [==============================] - 0s 9ms/step - loss: 0.4492 - accuracy: 0.8045 - val_loss: 0.4435 - val_accuracy: 0.8045\n",
            "Epoch 101/150\n",
            "5/5 [==============================] - 0s 10ms/step - loss: 0.4480 - accuracy: 0.8059 - val_loss: 0.4423 - val_accuracy: 0.8045\n",
            "Epoch 102/150\n",
            "5/5 [==============================] - 0s 9ms/step - loss: 0.4468 - accuracy: 0.8045 - val_loss: 0.4415 - val_accuracy: 0.8045\n",
            "Epoch 103/150\n",
            "5/5 [==============================] - 0s 11ms/step - loss: 0.4456 - accuracy: 0.8059 - val_loss: 0.4411 - val_accuracy: 0.8045\n",
            "Epoch 104/150\n",
            "5/5 [==============================] - 0s 9ms/step - loss: 0.4445 - accuracy: 0.8073 - val_loss: 0.4406 - val_accuracy: 0.8045\n",
            "Epoch 105/150\n",
            "5/5 [==============================] - 0s 10ms/step - loss: 0.4434 - accuracy: 0.8073 - val_loss: 0.4401 - val_accuracy: 0.8045\n",
            "Epoch 106/150\n",
            "5/5 [==============================] - 0s 9ms/step - loss: 0.4423 - accuracy: 0.8059 - val_loss: 0.4397 - val_accuracy: 0.8045\n",
            "Epoch 107/150\n",
            "5/5 [==============================] - 0s 8ms/step - loss: 0.4415 - accuracy: 0.8031 - val_loss: 0.4389 - val_accuracy: 0.8045\n",
            "Epoch 108/150\n",
            "5/5 [==============================] - 0s 8ms/step - loss: 0.4401 - accuracy: 0.8003 - val_loss: 0.4385 - val_accuracy: 0.8101\n",
            "Epoch 109/150\n",
            "5/5 [==============================] - 0s 9ms/step - loss: 0.4389 - accuracy: 0.8003 - val_loss: 0.4376 - val_accuracy: 0.8101\n",
            "Epoch 110/150\n",
            "5/5 [==============================] - 0s 11ms/step - loss: 0.4376 - accuracy: 0.7989 - val_loss: 0.4365 - val_accuracy: 0.8101\n",
            "Epoch 111/150\n",
            "5/5 [==============================] - 0s 12ms/step - loss: 0.4364 - accuracy: 0.7989 - val_loss: 0.4354 - val_accuracy: 0.8101\n",
            "Epoch 112/150\n",
            "5/5 [==============================] - 0s 10ms/step - loss: 0.4353 - accuracy: 0.8045 - val_loss: 0.4344 - val_accuracy: 0.8380\n",
            "Epoch 113/150\n",
            "5/5 [==============================] - 0s 9ms/step - loss: 0.4340 - accuracy: 0.8059 - val_loss: 0.4331 - val_accuracy: 0.8380\n",
            "Epoch 114/150\n",
            "5/5 [==============================] - 0s 9ms/step - loss: 0.4330 - accuracy: 0.8059 - val_loss: 0.4322 - val_accuracy: 0.8380\n",
            "Epoch 115/150\n",
            "5/5 [==============================] - 0s 10ms/step - loss: 0.4323 - accuracy: 0.8073 - val_loss: 0.4315 - val_accuracy: 0.8380\n",
            "Epoch 116/150\n",
            "5/5 [==============================] - 0s 10ms/step - loss: 0.4315 - accuracy: 0.8087 - val_loss: 0.4310 - val_accuracy: 0.8380\n",
            "Epoch 117/150\n",
            "5/5 [==============================] - 0s 11ms/step - loss: 0.4311 - accuracy: 0.8101 - val_loss: 0.4310 - val_accuracy: 0.8380\n",
            "Epoch 118/150\n",
            "5/5 [==============================] - 0s 9ms/step - loss: 0.4300 - accuracy: 0.8087 - val_loss: 0.4305 - val_accuracy: 0.8380\n",
            "Epoch 119/150\n",
            "5/5 [==============================] - 0s 9ms/step - loss: 0.4295 - accuracy: 0.8087 - val_loss: 0.4300 - val_accuracy: 0.8380\n",
            "Epoch 120/150\n",
            "5/5 [==============================] - 0s 13ms/step - loss: 0.4289 - accuracy: 0.8087 - val_loss: 0.4292 - val_accuracy: 0.8380\n",
            "Epoch 121/150\n",
            "5/5 [==============================] - 0s 11ms/step - loss: 0.4284 - accuracy: 0.8129 - val_loss: 0.4290 - val_accuracy: 0.8380\n",
            "Epoch 122/150\n",
            "5/5 [==============================] - 0s 12ms/step - loss: 0.4281 - accuracy: 0.8101 - val_loss: 0.4291 - val_accuracy: 0.8380\n",
            "Epoch 123/150\n",
            "5/5 [==============================] - 0s 13ms/step - loss: 0.4274 - accuracy: 0.8115 - val_loss: 0.4289 - val_accuracy: 0.8380\n",
            "Epoch 124/150\n",
            "5/5 [==============================] - 0s 10ms/step - loss: 0.4270 - accuracy: 0.8115 - val_loss: 0.4281 - val_accuracy: 0.8380\n",
            "Epoch 125/150\n",
            "5/5 [==============================] - 0s 10ms/step - loss: 0.4264 - accuracy: 0.8158 - val_loss: 0.4281 - val_accuracy: 0.8380\n",
            "Epoch 126/150\n",
            "5/5 [==============================] - 0s 10ms/step - loss: 0.4258 - accuracy: 0.8158 - val_loss: 0.4277 - val_accuracy: 0.8380\n",
            "Epoch 127/150\n",
            "5/5 [==============================] - 0s 11ms/step - loss: 0.4255 - accuracy: 0.8172 - val_loss: 0.4276 - val_accuracy: 0.8380\n",
            "Epoch 128/150\n",
            "5/5 [==============================] - 0s 10ms/step - loss: 0.4250 - accuracy: 0.8172 - val_loss: 0.4274 - val_accuracy: 0.8380\n",
            "Epoch 129/150\n",
            "5/5 [==============================] - 0s 11ms/step - loss: 0.4247 - accuracy: 0.8143 - val_loss: 0.4275 - val_accuracy: 0.8380\n",
            "Epoch 130/150\n",
            "5/5 [==============================] - 0s 10ms/step - loss: 0.4242 - accuracy: 0.8158 - val_loss: 0.4274 - val_accuracy: 0.8380\n",
            "Epoch 131/150\n",
            "5/5 [==============================] - 0s 11ms/step - loss: 0.4239 - accuracy: 0.8158 - val_loss: 0.4269 - val_accuracy: 0.8380\n",
            "Epoch 132/150\n",
            "5/5 [==============================] - 0s 10ms/step - loss: 0.4234 - accuracy: 0.8158 - val_loss: 0.4270 - val_accuracy: 0.8380\n",
            "Epoch 133/150\n",
            "5/5 [==============================] - 0s 11ms/step - loss: 0.4232 - accuracy: 0.8172 - val_loss: 0.4272 - val_accuracy: 0.8380\n",
            "Epoch 134/150\n",
            "5/5 [==============================] - 0s 11ms/step - loss: 0.4227 - accuracy: 0.8172 - val_loss: 0.4268 - val_accuracy: 0.8380\n",
            "Epoch 135/150\n",
            "5/5 [==============================] - 0s 11ms/step - loss: 0.4223 - accuracy: 0.8172 - val_loss: 0.4268 - val_accuracy: 0.8380\n",
            "Epoch 136/150\n",
            "5/5 [==============================] - 0s 10ms/step - loss: 0.4220 - accuracy: 0.8172 - val_loss: 0.4268 - val_accuracy: 0.8380\n",
            "Epoch 137/150\n",
            "5/5 [==============================] - 0s 10ms/step - loss: 0.4219 - accuracy: 0.8143 - val_loss: 0.4268 - val_accuracy: 0.8380\n",
            "Epoch 138/150\n",
            "5/5 [==============================] - 0s 10ms/step - loss: 0.4215 - accuracy: 0.8158 - val_loss: 0.4265 - val_accuracy: 0.8380\n",
            "Epoch 139/150\n",
            "5/5 [==============================] - 0s 10ms/step - loss: 0.4212 - accuracy: 0.8186 - val_loss: 0.4264 - val_accuracy: 0.8380\n",
            "Epoch 140/150\n",
            "5/5 [==============================] - 0s 11ms/step - loss: 0.4212 - accuracy: 0.8172 - val_loss: 0.4269 - val_accuracy: 0.8380\n",
            "Epoch 141/150\n",
            "5/5 [==============================] - 0s 11ms/step - loss: 0.4208 - accuracy: 0.8143 - val_loss: 0.4270 - val_accuracy: 0.8380\n",
            "Epoch 142/150\n",
            "5/5 [==============================] - 0s 12ms/step - loss: 0.4204 - accuracy: 0.8143 - val_loss: 0.4269 - val_accuracy: 0.8380\n",
            "Epoch 143/150\n",
            "5/5 [==============================] - 0s 14ms/step - loss: 0.4202 - accuracy: 0.8172 - val_loss: 0.4265 - val_accuracy: 0.8380\n",
            "Epoch 144/150\n",
            "5/5 [==============================] - 0s 14ms/step - loss: 0.4200 - accuracy: 0.8158 - val_loss: 0.4264 - val_accuracy: 0.8380\n",
            "Epoch 145/150\n",
            "5/5 [==============================] - 0s 10ms/step - loss: 0.4198 - accuracy: 0.8158 - val_loss: 0.4262 - val_accuracy: 0.8380\n",
            "Epoch 146/150\n",
            "5/5 [==============================] - 0s 9ms/step - loss: 0.4196 - accuracy: 0.8158 - val_loss: 0.4265 - val_accuracy: 0.8380\n",
            "Epoch 147/150\n",
            "5/5 [==============================] - 0s 11ms/step - loss: 0.4193 - accuracy: 0.8129 - val_loss: 0.4267 - val_accuracy: 0.8380\n",
            "Epoch 148/150\n",
            "5/5 [==============================] - 0s 10ms/step - loss: 0.4192 - accuracy: 0.8129 - val_loss: 0.4271 - val_accuracy: 0.8380\n",
            "Epoch 149/150\n",
            "5/5 [==============================] - 0s 10ms/step - loss: 0.4188 - accuracy: 0.8129 - val_loss: 0.4268 - val_accuracy: 0.8380\n",
            "Epoch 150/150\n",
            "5/5 [==============================] - 0s 9ms/step - loss: 0.4187 - accuracy: 0.8143 - val_loss: 0.4265 - val_accuracy: 0.8380\n"
          ]
        }
      ]
    },
    {
      "cell_type": "code",
      "metadata": {
        "colab": {
          "base_uri": "https://localhost:8080/",
          "height": 545
        },
        "id": "RYSyzGmBSIb7",
        "outputId": "1446c5e5-d788-411b-decf-c819d0b5dc72"
      },
      "source": [
        "def plot_curves(history):\n",
        "  plt.figure()\n",
        "  plt.xlabel('Épocas')\n",
        "  plt.ylabel('Error')\n",
        "  plt.plot(history['loss'])\n",
        "  plt.plot(history['val_loss'])\n",
        "  plt.legend(['Entrenamiento', 'Validación'])\n",
        "\n",
        "  plt.figure()\n",
        "  plt.xlabel('Épocas')\n",
        "  plt.ylabel('Accuracy')\n",
        "  plt.plot(history['accuracy'])\n",
        "  plt.plot(history['val_accuracy'])\n",
        "  plt.legend(['Entrenamiento', 'Validación'], loc='lower right');\n",
        "\n",
        "plot_curves(hist.history)"
      ],
      "execution_count": 474,
      "outputs": [
        {
          "output_type": "display_data",
          "data": {
            "image/png": "[encoded data removed]",
            "text/plain": [
              "<Figure size 432x288 with 1 Axes>"
            ]
          },
          "metadata": {
            "needs_background": "light"
          }
        },
        {
          "output_type": "display_data",
          "data": {
            "image/png": "[encoded data removed]",
            "text/plain": [
              "<Figure size 432x288 with 1 Axes>"
            ]
          },
          "metadata": {
            "needs_background": "light"
          }
        }
      ]
    },
    {
      "cell_type": "code",
      "metadata": {
        "id": "2lDPlX4iUomr"
      },
      "source": [
        ""
      ],
      "execution_count": null,
      "outputs": []
    }
  ]
}