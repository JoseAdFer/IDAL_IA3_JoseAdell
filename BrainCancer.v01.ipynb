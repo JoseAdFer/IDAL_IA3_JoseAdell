{
  "nbformat": 4,
  "nbformat_minor": 0,
  "metadata": {
    "colab": {
      "name": "Untitled18.ipynb",
      "provenance": [],
      "authorship_tag": "ABX9TyMRkd92qtjHMgPc/P7BWWZ+",
      "include_colab_link": true
    },
    "kernelspec": {
      "name": "python3",
      "display_name": "Python 3"
    },
    "language_info": {
      "name": "python"
    }
  },
  "cells": [
    {
      "cell_type": "markdown",
      "metadata": {
        "id": "view-in-github",
        "colab_type": "text"
      },
      "source": [
        "<a href=\"https://colab.research.google.com/github/JoseAdFer/IDAL_IA3_JoseAdell/blob/main/BrainCancer.v01.ipynb\" target=\"_parent\"><img src=\"https://colab.research.google.com/assets/colab-badge.svg\" alt=\"Open In Colab\"/></a>"
      ]
    },
    {
      "cell_type": "code",
      "execution_count": 17,
      "metadata": {
        "id": "-whdna_Uk7KF"
      },
      "outputs": [],
      "source": [
        " ! pip install -q kaggle"
      ]
    },
    {
      "cell_type": "code",
      "source": [
        " from google.colab import files"
      ],
      "metadata": {
        "id": "Pr99pPzWldLx"
      },
      "execution_count": 18,
      "outputs": []
    },
    {
      "cell_type": "code",
      "source": [
        "files.upload()"
      ],
      "metadata": {
        "colab": {
          "resources": {
            "http://localhost:8080/nbextensions/google.colab/files.js": {
              "data": "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",
              "ok": true,
              "headers": [
                [
                  "content-type",
                  "application/javascript"
                ]
              ],
              "status": 200,
              "status_text": ""
            }
          },
          "base_uri": "https://localhost:8080/",
          "height": 108
        },
        "id": "8DYUi2zolewg",
        "outputId": "d6643565-9c87-49d8-ce4e-994b42020ff8"
      },
      "execution_count": 19,
      "outputs": [
        {
          "output_type": "display_data",
          "data": {
            "text/html": [
              "\n",
              "     <input type=\"file\" id=\"files-8e2aba33-c9bc-4d48-af80-17e5aa943a76\" name=\"files[]\" multiple disabled\n",
              "        style=\"border:none\" />\n",
              "     <output id=\"result-8e2aba33-c9bc-4d48-af80-17e5aa943a76\">\n",
              "      Upload widget is only available when the cell has been executed in the\n",
              "      current browser session. Please rerun this cell to enable.\n",
              "      </output>\n",
              "      <script src=\"/nbextensions/google.colab/files.js\"></script> "
            ],
            "text/plain": [
              "<IPython.core.display.HTML object>"
            ]
          },
          "metadata": {}
        },
        {
          "output_type": "stream",
          "name": "stdout",
          "text": [
            "Saving kaggle.json to kaggle (1).json\n"
          ]
        },
        {
          "output_type": "execute_result",
          "data": {
            "text/plain": [
              "{'kaggle.json': b'{\"username\":\"josead\",\"key\":\"6a0549eac590897fc14ffedb87f6ff3a\"}'}"
            ]
          },
          "metadata": {},
          "execution_count": 19
        }
      ]
    },
    {
      "cell_type": "code",
      "source": [
        " ! mkdir ~/.kaggle"
      ],
      "metadata": {
        "colab": {
          "base_uri": "https://localhost:8080/"
        },
        "id": "1yHgAGVFlo37",
        "outputId": "6f547ba4-a74f-4ecb-9f3a-30bf3f47cb36"
      },
      "execution_count": 20,
      "outputs": [
        {
          "output_type": "stream",
          "name": "stdout",
          "text": [
            "mkdir: cannot create directory ‘/root/.kaggle’: File exists\n"
          ]
        }
      ]
    },
    {
      "cell_type": "code",
      "source": [
        "! cp kaggle.json ~/.kaggle/"
      ],
      "metadata": {
        "id": "rxu1Ejz0lrSm"
      },
      "execution_count": 21,
      "outputs": []
    },
    {
      "cell_type": "code",
      "source": [
        "! chmod 600 ~/.kaggle/kaggle.json"
      ],
      "metadata": {
        "id": "MTWTzMX5luhN"
      },
      "execution_count": 22,
      "outputs": []
    },
    {
      "cell_type": "code",
      "source": [
        " ! kaggle datasets list"
      ],
      "metadata": {
        "colab": {
          "base_uri": "https://localhost:8080/"
        },
        "id": "O0-IamxPlxrz",
        "outputId": "77abe4d4-8857-4139-c39e-34143cd7bd45"
      },
      "execution_count": 23,
      "outputs": [
        {
          "output_type": "stream",
          "name": "stdout",
          "text": [
            "Warning: Looks like you're using an outdated API Version, please consider updating (server 1.5.12 / client 1.5.4)\n",
            "ref                                                         title                                             size  lastUpdated          downloadCount  \n",
            "----------------------------------------------------------  -----------------------------------------------  -----  -------------------  -------------  \n",
            "prasertk/netflix-subscription-price-in-different-countries  Netflix subscription fee in different countries    3KB  2022-01-15 07:06:09           3417  \n",
            "nkitgupta/jigsaw-regression-based-data                      Jigsaw Regression Based Data                       3GB  2022-02-05 20:51:56            901  \n",
            "yasserh/wine-quality-dataset                                Wine Quality Dataset                              21KB  2022-01-15 19:15:11           3485  \n",
            "majyhain/height-of-male-and-female-by-country-2022          Height of Male and Female by Country 2022          4KB  2022-02-02 00:40:19           1134  \n",
            "sanjeetsinghnaik/top-1000-highest-grossing-movies           Top 1000 Highest Grossing Movies                 106KB  2022-01-15 16:26:14           2192  \n",
            "yamqwe/air-traffic-passenger-datae                          🌁 Air Traffic Passenger Data                     173KB  2022-02-08 15:33:44           1006  \n",
            "iamsouravbanerjee/analytics-industry-salaries-2022-india    Data Professionals Salary - 2022                  57KB  2022-02-04 09:04:46           3391  \n",
            "robikscube/ubiquant-parquet                                 Ubiquant Competition Data in Parquet Format       13GB  2022-01-19 14:18:59           1494  \n",
            "yamqwe/netflix-showse                                       Netflix Shows                                     11KB  2022-02-08 15:33:37           1845  \n",
            "georgesaavedra/covid19-dataset                              COVID-19 dataset                                   9MB  2022-02-11 16:14:49           1389  \n",
            "dansbecker/melbourne-housing-snapshot                       Melbourne Housing Snapshot                       451KB  2018-06-05 12:52:24          80679  \n",
            "datasnaek/youtube-new                                       Trending YouTube Video Statistics                201MB  2019-06-03 00:56:47         165941  \n",
            "maricinnamon/harry-potter-movies-dataset                    Harry Potter Movies Dataset                      211KB  2022-01-14 10:13:19            756  \n",
            "vivovinco/nba-player-stats                                  2021-2022 NBA Player Stats                        29KB  2022-01-22 14:53:22            893  \n",
            "kenjee/ken-jee-youtube-data                                 Ken Jee YouTube Data                               6MB  2022-01-22 20:38:53            254  \n",
            "zynicide/wine-reviews                                       Wine Reviews                                      51MB  2017-11-27 17:08:04         154246  \n",
            "residentmario/ramen-ratings                                 Ramen Ratings                                     40KB  2018-01-11 16:04:39          32456  \n",
            "datasnaek/chess                                             Chess Game Dataset (Lichess)                       3MB  2017-09-04 03:09:09          27635  \n",
            "rtatman/188-million-us-wildfires                            1.88 Million US Wildfires                        168MB  2020-05-12 21:03:49          18894  \n",
            "jpmiller/publicassistance                                   US Public Food Assistance                        703KB  2020-08-21 16:51:18          15514  \n"
          ]
        }
      ]
    },
    {
      "cell_type": "code",
      "source": [
        "! kaggle competitions list"
      ],
      "metadata": {
        "colab": {
          "base_uri": "https://localhost:8080/"
        },
        "id": "f0TJHAIGl5TS",
        "outputId": "0648a1ed-4eba-4d1c-e2cb-83ee139cdbf3"
      },
      "execution_count": 24,
      "outputs": [
        {
          "output_type": "stream",
          "name": "stdout",
          "text": [
            "Warning: Looks like you're using an outdated API Version, please consider updating (server 1.5.12 / client 1.5.4)\n",
            "ref                                            deadline             category            reward  teamCount  userHasEntered  \n",
            "---------------------------------------------  -------------------  ---------------  ---------  ---------  --------------  \n",
            "contradictory-my-dear-watson                   2030-07-01 23:59:00  Getting Started     Prizes         67           False  \n",
            "gan-getting-started                            2030-07-01 23:59:00  Getting Started     Prizes         94           False  \n",
            "store-sales-time-series-forecasting            2030-06-30 23:59:00  Getting Started  Knowledge        831           False  \n",
            "tpu-getting-started                            2030-06-03 23:59:00  Getting Started  Knowledge        162           False  \n",
            "digit-recognizer                               2030-01-01 00:00:00  Getting Started  Knowledge       1781           False  \n",
            "titanic                                        2030-01-01 00:00:00  Getting Started  Knowledge      13776           False  \n",
            "house-prices-advanced-regression-techniques    2030-01-01 00:00:00  Getting Started  Knowledge       4373           False  \n",
            "connectx                                       2030-01-01 00:00:00  Getting Started  Knowledge        219           False  \n",
            "nlp-getting-started                            2030-01-01 00:00:00  Getting Started  Knowledge        805           False  \n",
            "competitive-data-science-predict-future-sales  2022-12-31 23:59:00  Playground           Kudos      13545           False  \n",
            "herbarium-2022-fgvc9                           2022-05-30 23:59:00  Research         Knowledge          3           False  \n",
            "h-and-m-personalized-fashion-recommendations   2022-05-09 23:59:00  Featured           $50,000        387           False  \n",
            "g-research-crypto-forecasting                  2022-05-03 23:59:00  Featured          $125,000       2196           False  \n",
            "nbme-score-clinical-patient-notes              2022-05-03 23:59:00  Featured           $50,000        283           False  \n",
            "happy-whale-and-dolphin                        2022-04-18 23:59:00  Research           $25,000        388           False  \n",
            "ubiquant-market-prediction                     2022-04-18 23:59:00  Featured          $100,000       1359           False  \n",
            "feedback-prize-2021                            2022-03-15 23:59:00  Featured          $160,000       1410           False  \n",
            "tabular-playground-series-feb-2022             2022-02-28 23:59:00  Playground            Swag        813           False  \n",
            "tensorflow-great-barrier-reef                  2022-02-14 23:59:00  Research          $150,000       2109           False  \n",
            "jigsaw-toxic-severity-rating                   2022-02-07 23:59:00  Featured           $50,000       2301           False  \n"
          ]
        }
      ]
    },
    {
      "cell_type": "code",
      "source": [
        "!kaggle datasets download mateuszbuda/lgg-mri-segmentation -p /content/sample_data/ --unzip"
      ],
      "metadata": {
        "colab": {
          "base_uri": "https://localhost:8080/"
        },
        "id": "Qjyz20bMmP_6",
        "outputId": "7f35d2e3-9739-4beb-9dcd-0fd1dfed9462"
      },
      "execution_count": 25,
      "outputs": [
        {
          "output_type": "stream",
          "name": "stdout",
          "text": [
            "Downloading lgg-mri-segmentation.zip to /content/sample_data\n",
            " 99% 708M/714M [00:06<00:00, 136MB/s]\n",
            "100% 714M/714M [00:06<00:00, 114MB/s]\n"
          ]
        }
      ]
    },
    {
      "cell_type": "code",
      "source": [
        "import glob as glob"
      ],
      "metadata": {
        "id": "G5rpgJNssA00"
      },
      "execution_count": 26,
      "outputs": []
    },
    {
      "cell_type": "code",
      "source": [
        "mask_files = glob.glob('./sample_data/lgg-mri-segmentation/kaggle_3m/*/*_mask*')\n",
        "train_files = [file.replace('_mask', '') for file in mask_files]"
      ],
      "metadata": {
        "id": "3m23JYRKr-6b"
      },
      "execution_count": 64,
      "outputs": []
    },
    {
      "cell_type": "code",
      "source": [
        "import pandas as pd\n",
        "import numpy as np\n",
        "import cv2"
      ],
      "metadata": {
        "id": "nCMFzBAOFPEI"
      },
      "execution_count": 68,
      "outputs": []
    },
    {
      "cell_type": "code",
      "source": [
        "def diagnosis(mask_path):\n",
        "    value = np.max(cv2.imread(mask_path))\n",
        "    return '1' if value > 0 else '0'\n",
        "df = pd.DataFrame({\"image_path\": train_files,\n",
        "                   \"mask_path\": mask_files,\n",
        "                  \"diagnosis\":[diagnosis(x) for x in mask_files]})\n",
        "df.head()"
      ],
      "metadata": {
        "colab": {
          "base_uri": "https://localhost:8080/",
          "height": 221
        },
        "id": "fNpc2allFE4m",
        "outputId": "a5b2a07e-fa0f-4892-b5fb-6eb08cb1f142"
      },
      "execution_count": 69,
      "outputs": [
        {
          "output_type": "execute_result",
          "data": {
            "text/html": [
              "\n",
              "  <div id=\"df-240d457f-7f58-453b-a53a-c48ed27a9e7e\">\n",
              "    <div class=\"colab-df-container\">\n",
              "      <div>\n",
              "<style scoped>\n",
              "    .dataframe tbody tr th:only-of-type {\n",
              "        vertical-align: middle;\n",
              "    }\n",
              "\n",
              "    .dataframe tbody tr th {\n",
              "        vertical-align: top;\n",
              "    }\n",
              "\n",
              "    .dataframe thead th {\n",
              "        text-align: right;\n",
              "    }\n",
              "</style>\n",
              "<table border=\"1\" class=\"dataframe\">\n",
              "  <thead>\n",
              "    <tr style=\"text-align: right;\">\n",
              "      <th></th>\n",
              "      <th>image_path</th>\n",
              "      <th>mask_path</th>\n",
              "      <th>diagnosis</th>\n",
              "    </tr>\n",
              "  </thead>\n",
              "  <tbody>\n",
              "    <tr>\n",
              "      <th>0</th>\n",
              "      <td>./sample_data/lgg-mri-segmentation/kaggle_3m/T...</td>\n",
              "      <td>./sample_data/lgg-mri-segmentation/kaggle_3m/T...</td>\n",
              "      <td>0</td>\n",
              "    </tr>\n",
              "    <tr>\n",
              "      <th>1</th>\n",
              "      <td>./sample_data/lgg-mri-segmentation/kaggle_3m/T...</td>\n",
              "      <td>./sample_data/lgg-mri-segmentation/kaggle_3m/T...</td>\n",
              "      <td>0</td>\n",
              "    </tr>\n",
              "    <tr>\n",
              "      <th>2</th>\n",
              "      <td>./sample_data/lgg-mri-segmentation/kaggle_3m/T...</td>\n",
              "      <td>./sample_data/lgg-mri-segmentation/kaggle_3m/T...</td>\n",
              "      <td>0</td>\n",
              "    </tr>\n",
              "    <tr>\n",
              "      <th>3</th>\n",
              "      <td>./sample_data/lgg-mri-segmentation/kaggle_3m/T...</td>\n",
              "      <td>./sample_data/lgg-mri-segmentation/kaggle_3m/T...</td>\n",
              "      <td>1</td>\n",
              "    </tr>\n",
              "    <tr>\n",
              "      <th>4</th>\n",
              "      <td>./sample_data/lgg-mri-segmentation/kaggle_3m/T...</td>\n",
              "      <td>./sample_data/lgg-mri-segmentation/kaggle_3m/T...</td>\n",
              "      <td>0</td>\n",
              "    </tr>\n",
              "  </tbody>\n",
              "</table>\n",
              "</div>\n",
              "      <button class=\"colab-df-convert\" onclick=\"convertToInteractive('df-240d457f-7f58-453b-a53a-c48ed27a9e7e')\"\n",
              "              title=\"Convert this dataframe to an interactive table.\"\n",
              "              style=\"display:none;\">\n",
              "        \n",
              "  <svg xmlns=\"http://www.w3.org/2000/svg\" height=\"24px\"viewBox=\"0 0 24 24\"\n",
              "       width=\"24px\">\n",
              "    <path d=\"M0 0h24v24H0V0z\" fill=\"none\"/>\n",
              "    <path d=\"M18.56 5.44l.94 2.06.94-2.06 2.06-.94-2.06-.94-.94-2.06-.94 2.06-2.06.94zm-11 1L8.5 8.5l.94-2.06 2.06-.94-2.06-.94L8.5 2.5l-.94 2.06-2.06.94zm10 10l.94 2.06.94-2.06 2.06-.94-2.06-.94-.94-2.06-.94 2.06-2.06.94z\"/><path d=\"M17.41 7.96l-1.37-1.37c-.4-.4-.92-.59-1.43-.59-.52 0-1.04.2-1.43.59L10.3 9.45l-7.72 7.72c-.78.78-.78 2.05 0 2.83L4 21.41c.39.39.9.59 1.41.59.51 0 1.02-.2 1.41-.59l7.78-7.78 2.81-2.81c.8-.78.8-2.07 0-2.86zM5.41 20L4 18.59l7.72-7.72 1.47 1.35L5.41 20z\"/>\n",
              "  </svg>\n",
              "      </button>\n",
              "      \n",
              "  <style>\n",
              "    .colab-df-container {\n",
              "      display:flex;\n",
              "      flex-wrap:wrap;\n",
              "      gap: 12px;\n",
              "    }\n",
              "\n",
              "    .colab-df-convert {\n",
              "      background-color: #E8F0FE;\n",
              "      border: none;\n",
              "      border-radius: 50%;\n",
              "      cursor: pointer;\n",
              "      display: none;\n",
              "      fill: #1967D2;\n",
              "      height: 32px;\n",
              "      padding: 0 0 0 0;\n",
              "      width: 32px;\n",
              "    }\n",
              "\n",
              "    .colab-df-convert:hover {\n",
              "      background-color: #E2EBFA;\n",
              "      box-shadow: 0px 1px 2px rgba(60, 64, 67, 0.3), 0px 1px 3px 1px rgba(60, 64, 67, 0.15);\n",
              "      fill: #174EA6;\n",
              "    }\n",
              "\n",
              "    [theme=dark] .colab-df-convert {\n",
              "      background-color: #3B4455;\n",
              "      fill: #D2E3FC;\n",
              "    }\n",
              "\n",
              "    [theme=dark] .colab-df-convert:hover {\n",
              "      background-color: #434B5C;\n",
              "      box-shadow: 0px 1px 3px 1px rgba(0, 0, 0, 0.15);\n",
              "      filter: drop-shadow(0px 1px 2px rgba(0, 0, 0, 0.3));\n",
              "      fill: #FFFFFF;\n",
              "    }\n",
              "  </style>\n",
              "\n",
              "      <script>\n",
              "        const buttonEl =\n",
              "          document.querySelector('#df-240d457f-7f58-453b-a53a-c48ed27a9e7e button.colab-df-convert');\n",
              "        buttonEl.style.display =\n",
              "          google.colab.kernel.accessAllowed ? 'block' : 'none';\n",
              "\n",
              "        async function convertToInteractive(key) {\n",
              "          const element = document.querySelector('#df-240d457f-7f58-453b-a53a-c48ed27a9e7e');\n",
              "          const dataTable =\n",
              "            await google.colab.kernel.invokeFunction('convertToInteractive',\n",
              "                                                     [key], {});\n",
              "          if (!dataTable) return;\n",
              "\n",
              "          const docLinkHtml = 'Like what you see? Visit the ' +\n",
              "            '<a target=\"_blank\" href=https://colab.research.google.com/notebooks/data_table.ipynb>data table notebook</a>'\n",
              "            + ' to learn more about interactive tables.';\n",
              "          element.innerHTML = '';\n",
              "          dataTable['output_type'] = 'display_data';\n",
              "          await google.colab.output.renderOutput(dataTable, element);\n",
              "          const docLink = document.createElement('div');\n",
              "          docLink.innerHTML = docLinkHtml;\n",
              "          element.appendChild(docLink);\n",
              "        }\n",
              "      </script>\n",
              "    </div>\n",
              "  </div>\n",
              "  "
            ],
            "text/plain": [
              "                                          image_path  ... diagnosis\n",
              "0  ./sample_data/lgg-mri-segmentation/kaggle_3m/T...  ...         0\n",
              "1  ./sample_data/lgg-mri-segmentation/kaggle_3m/T...  ...         0\n",
              "2  ./sample_data/lgg-mri-segmentation/kaggle_3m/T...  ...         0\n",
              "3  ./sample_data/lgg-mri-segmentation/kaggle_3m/T...  ...         1\n",
              "4  ./sample_data/lgg-mri-segmentation/kaggle_3m/T...  ...         0\n",
              "\n",
              "[5 rows x 3 columns]"
            ]
          },
          "metadata": {},
          "execution_count": 69
        }
      ]
    },
    {
      "cell_type": "code",
      "source": [
        "ax = df['diagnosis'].value_counts().plot(kind='bar', stacked=True, figsize=(10,6), color=['blue', 'red'])\n",
        "ax.set_title('Data Distribution')\n",
        "ax.set_ylabel('Total Images', fontsize=15)\n",
        "ax.set_xticklabels(['No Tumor', 'Tumor'], fontsize=12, rotation=0)\n",
        "for i, rows in enumerate(df['diagnosis'].value_counts().values):\n",
        "    ax.annotate(int(rows), xy=(i, rows+12), ha='center', fontweight='bold', fontsize=15)"
      ],
      "metadata": {
        "colab": {
          "base_uri": "https://localhost:8080/",
          "height": 413
        },
        "id": "CeMs2dQFJ-Zd",
        "outputId": "7a655a56-fefc-4aa3-a95a-16561ed804e6"
      },
      "execution_count": 70,
      "outputs": [
        {
          "output_type": "display_data",
          "data": {
            "image/png": "[encoded data removed]",
            "text/plain": [
              "<Figure size 720x432 with 1 Axes>"
            ]
          },
          "metadata": {
            "needs_background": "light"
          }
        }
      ]
    },
    {
      "cell_type": "code",
      "source": [
        "import os"
      ],
      "metadata": {
        "id": "3kpHe00IFQrW"
      },
      "execution_count": 41,
      "outputs": []
    },
    {
      "cell_type": "code",
      "source": [
        "path='./sample_data/kaggle_3m/*/*_mask*'"
      ],
      "metadata": {
        "id": "F4kOjK9qHyN8"
      },
      "execution_count": 59,
      "outputs": []
    },
    {
      "cell_type": "code",
      "source": [
        "cat_files = os.listdir(path)\n",
        "dog_files = os.listdir(\"./kaggle_3m/*/* *'\")"
      ],
      "metadata": {
        "colab": {
          "base_uri": "https://localhost:8080/",
          "height": 199
        },
        "id": "N8Vb_9_iHHeC",
        "outputId": "62fbe4a5-585e-4e25-95e2-561741dd5f59"
      },
      "execution_count": 60,
      "outputs": [
        {
          "output_type": "error",
          "ename": "FileNotFoundError",
          "evalue": "ignored",
          "traceback": [
            "\u001b[0;31m---------------------------------------------------------------------------\u001b[0m",
            "\u001b[0;31mFileNotFoundError\u001b[0m                         Traceback (most recent call last)",
            "\u001b[0;32m<ipython-input-60-dead571d6544>\u001b[0m in \u001b[0;36m<module>\u001b[0;34m()\u001b[0m\n\u001b[0;32m----> 1\u001b[0;31m \u001b[0mcat_files\u001b[0m \u001b[0;34m=\u001b[0m \u001b[0mos\u001b[0m\u001b[0;34m.\u001b[0m\u001b[0mlistdir\u001b[0m\u001b[0;34m(\u001b[0m\u001b[0mpath\u001b[0m\u001b[0;34m)\u001b[0m\u001b[0;34m\u001b[0m\u001b[0;34m\u001b[0m\u001b[0m\n\u001b[0m\u001b[1;32m      2\u001b[0m \u001b[0mdog_files\u001b[0m \u001b[0;34m=\u001b[0m \u001b[0mos\u001b[0m\u001b[0;34m.\u001b[0m\u001b[0mlistdir\u001b[0m\u001b[0;34m(\u001b[0m\u001b[0;34m\"./kaggle_3m/*/* *'\"\u001b[0m\u001b[0;34m)\u001b[0m\u001b[0;34m\u001b[0m\u001b[0;34m\u001b[0m\u001b[0m\n",
            "\u001b[0;31mFileNotFoundError\u001b[0m: [Errno 2] No such file or directory: './sample_data/kaggle_3m/*/*_mask*'"
          ]
        }
      ]
    },
    {
      "cell_type": "code",
      "source": [
        "dir_list = os.listdir('./sample_data/kaggle_3m/') \n",
        "dir_list"
      ],
      "metadata": {
        "colab": {
          "base_uri": "https://localhost:8080/"
        },
        "id": "OM9vZfQEHWFk",
        "outputId": "8ff26574-a5a7-4d25-847a-de01e547eea1"
      },
      "execution_count": 61,
      "outputs": [
        {
          "output_type": "execute_result",
          "data": {
            "text/plain": [
              "['TCGA_HT_7860_19960513',\n",
              " 'TCGA_DU_6400_19830518',\n",
              " 'TCGA_HT_A61B_19991127',\n",
              " 'TCGA_FG_7634_20000128',\n",
              " 'TCGA_DU_6408_19860521',\n",
              " 'TCGA_DU_A5TT_19980318',\n",
              " 'TCGA_DU_7309_19960831',\n",
              " 'TCGA_DU_7014_19860618',\n",
              " 'TCGA_CS_4943_20000902',\n",
              " 'TCGA_DU_5871_19941206',\n",
              " 'TCGA_DU_6405_19851005',\n",
              " 'TCGA_HT_7690_19960312',\n",
              " 'TCGA_DU_7013_19860523',\n",
              " 'TCGA_FG_5964_20010511',\n",
              " 'TCGA_HT_8563_19981209',\n",
              " 'TCGA_HT_7881_19981015',\n",
              " 'TCGA_CS_4942_19970222',\n",
              " 'TCGA_DU_8162_19961029',\n",
              " 'TCGA_DU_A5TW_19980228',\n",
              " 'TCGA_HT_7877_19980917',\n",
              " 'TCGA_HT_7475_19970918',\n",
              " 'TCGA_DU_6407_19860514',\n",
              " 'TCGA_DU_5872_19950223',\n",
              " 'TCGA_FG_5962_20000626',\n",
              " 'TCGA_DU_7019_19940908',\n",
              " 'TCGA_CS_6665_20010817',\n",
              " 'TCGA_DU_5851_19950428',\n",
              " 'TCGA_HT_7608_19940304',\n",
              " 'TCGA_HT_8106_19970727',\n",
              " 'TCGA_CS_6188_20010812',\n",
              " 'TCGA_HT_7874_19950902',\n",
              " 'TCGA_FG_7643_20021104',\n",
              " 'TCGA_DU_5855_19951217',\n",
              " 'TCGA_FG_6689_20020326',\n",
              " 'TCGA_DU_8167_19970402',\n",
              " 'TCGA_HT_7856_19950831',\n",
              " 'TCGA_HT_7605_19950916',\n",
              " 'TCGA_CS_6290_20000917',\n",
              " 'TCGA_HT_A5RC_19990831',\n",
              " 'TCGA_FG_8189_20030516',\n",
              " 'TCGA_DU_7299_19910417',\n",
              " 'TCGA_EZ_7264_20010816',\n",
              " 'TCGA_HT_A61A_20000127',\n",
              " 'TCGA_HT_7692_19960724',\n",
              " 'TCGA_DU_7008_19830723',\n",
              " 'README.md',\n",
              " 'TCGA_DU_7300_19910814',\n",
              " 'TCGA_DU_A5TS_19970726',\n",
              " 'TCGA_CS_4941_19960909',\n",
              " 'TCGA_DU_7302_19911203',\n",
              " 'TCGA_HT_7684_19950816',\n",
              " 'TCGA_HT_7602_19951103',\n",
              " 'TCGA_HT_8111_19980330',\n",
              " 'TCGA_HT_8105_19980826',\n",
              " 'TCGA_DU_7306_19930512',\n",
              " 'TCGA_DU_5854_19951104',\n",
              " 'TCGA_FG_6690_20020226',\n",
              " 'TCGA_DU_7018_19911220',\n",
              " 'TCGA_DU_5874_19950510',\n",
              " 'TCGA_DU_8168_19970503',\n",
              " 'TCGA_FG_6692_20020606',\n",
              " 'TCGA_CS_5396_20010302',\n",
              " 'TCGA_HT_7616_19940813',\n",
              " 'TCGA_DU_A5TR_19970726',\n",
              " 'TCGA_FG_6691_20020405',\n",
              " 'TCGA_DU_A5TU_19980312',\n",
              " 'TCGA_DU_8164_19970111',\n",
              " 'TCGA_HT_7884_19980913',\n",
              " 'TCGA_CS_6667_20011105',\n",
              " 'TCGA_HT_7693_19950520',\n",
              " 'TCGA_HT_7879_19981009',\n",
              " 'TCGA_DU_6399_19830416',\n",
              " 'TCGA_DU_A5TP_19970614',\n",
              " 'TCGA_FG_6688_20020215',\n",
              " 'TCGA_HT_8018_19970411',\n",
              " 'TCGA_DU_5849_19950405',\n",
              " 'TCGA_CS_6186_20000601',\n",
              " 'TCGA_CS_6666_20011109',\n",
              " 'TCGA_DU_7301_19911112',\n",
              " 'TCGA_HT_7855_19951020',\n",
              " 'TCGA_DU_7010_19860307',\n",
              " 'TCGA_DU_7298_19910324',\n",
              " 'TCGA_CS_5397_20010315',\n",
              " 'TCGA_HT_7473_19970826',\n",
              " 'TCGA_HT_7686_19950629',\n",
              " 'TCGA_FG_A4MU_20030903',\n",
              " 'data.csv',\n",
              " 'TCGA_CS_6669_20020102',\n",
              " 'TCGA_HT_7882_19970125',\n",
              " 'TCGA_CS_5395_19981004',\n",
              " 'TCGA_FG_7637_20000922',\n",
              " 'TCGA_HT_7694_19950404',\n",
              " 'TCGA_DU_A5TY_19970709',\n",
              " 'TCGA_HT_7680_19970202',\n",
              " 'TCGA_DU_7304_19930325',\n",
              " 'TCGA_HT_8107_19980708',\n",
              " 'TCGA_DU_8166_19970322',\n",
              " 'TCGA_DU_6401_19831001',\n",
              " 'TCGA_CS_5393_19990606',\n",
              " 'TCGA_HT_A616_19991226',\n",
              " 'TCGA_HT_8114_19981030',\n",
              " 'TCGA_HT_8113_19930809',\n",
              " 'TCGA_DU_5852_19950709',\n",
              " 'TCGA_CS_4944_20010208',\n",
              " 'TCGA_DU_7294_19890104',\n",
              " 'TCGA_FG_A4MT_20020212',\n",
              " 'TCGA_DU_8165_19970205',\n",
              " 'TCGA_DU_5853_19950823',\n",
              " 'TCGA_CS_6668_20011025',\n",
              " 'TCGA_DU_8163_19961119',\n",
              " 'TCGA_FG_A60K_20040224',\n",
              " 'TCGA_DU_6404_19850629']"
            ]
          },
          "metadata": {},
          "execution_count": 61
        }
      ]
    },
    {
      "cell_type": "code",
      "source": [
        "Image.open('./sample_data/lgg-mri-segmentation/kaggle_3m/TCGA_CS_4943_20000902/TCGA_CS_4943_20000902_1.tif')"
      ],
      "metadata": {
        "colab": {
          "base_uri": "https://localhost:8080/",
          "height": 293
        },
        "id": "Q3miEYiNJI4_",
        "outputId": "f7a17f81-b405-4b68-882d-8d290291e32e"
      },
      "execution_count": 63,
      "outputs": [
        {
          "output_type": "execute_result",
          "data": {
            "image/png": "[encoded data removed]",
            "text/plain": [
              "<PIL.TiffImagePlugin.TiffImageFile image mode=RGB size=256x256 at 0x7F3113B94A50>"
            ]
          },
          "metadata": {},
          "execution_count": 63
        }
      ]
    },
    {
      "cell_type": "code",
      "source": [
        "from PIL import Image"
      ],
      "metadata": {
        "id": "PUEhlWNVJMM6"
      },
      "execution_count": 62,
      "outputs": []
    },
    {
      "cell_type": "code",
      "source": [
        ""
      ],
      "metadata": {
        "id": "6M-KXMrEIJNz"
      },
      "execution_count": null,
      "outputs": []
    }
  ]
}